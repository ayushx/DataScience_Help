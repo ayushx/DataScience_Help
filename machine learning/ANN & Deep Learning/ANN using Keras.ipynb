{
 "cells": [
  {
   "cell_type": "markdown",
   "metadata": {},
   "source": [
    "### Business Problem\n",
    "Our basic aim is to predict customer churn for a certain bank i.e. which customer is going to leave this bank service. Dataset is small(for learning purpose) and contains 10000 rows with 14 columns. I am not explaining data in detail as dataset is self explanatory."
   ]
  },
  {
   "cell_type": "code",
   "execution_count": 4,
   "metadata": {},
   "outputs": [],
   "source": [
    "# Importing the libraries\n",
    "import numpy as np\n",
    "import matplotlib.pyplot as plt\n",
    "import pandas as pd"
   ]
  },
  {
   "cell_type": "code",
   "execution_count": 7,
   "metadata": {},
   "outputs": [],
   "source": [
    "# Importing the dataset\n",
    "dataset = pd.read_csv('Churn_Modelling.csv')"
   ]
  },
  {
   "cell_type": "code",
   "execution_count": 8,
   "metadata": {},
   "outputs": [],
   "source": [
    "X = dataset.iloc[:, 3:13].values\n",
    "y = dataset.iloc[:, 13].values"
   ]
  },
  {
   "cell_type": "code",
   "execution_count": 9,
   "metadata": {},
   "outputs": [],
   "source": [
    "from sklearn.preprocessing import LabelEncoder, OneHotEncoder\n",
    "labelencoder_X_1 = LabelEncoder()\n",
    "X[:, 1] = labelencoder_X_1.fit_transform(X[:, 1])\n",
    "labelencoder_X_2 = LabelEncoder()\n",
    "X[:, 2] = labelencoder_X_2.fit_transform(X[:, 2])"
   ]
  },
  {
   "cell_type": "code",
   "execution_count": 10,
   "metadata": {},
   "outputs": [
    {
     "data": {
      "text/plain": [
       "array([[619, 0, 0, ..., 1, 1, 101348.88],\n",
       "       [608, 2, 0, ..., 0, 1, 112542.58],\n",
       "       [502, 0, 0, ..., 1, 0, 113931.57],\n",
       "       ...,\n",
       "       [709, 0, 0, ..., 0, 1, 42085.58],\n",
       "       [772, 1, 1, ..., 1, 0, 92888.52],\n",
       "       [792, 0, 0, ..., 1, 0, 38190.78]], dtype=object)"
      ]
     },
     "execution_count": 10,
     "metadata": {},
     "output_type": "execute_result"
    }
   ],
   "source": [
    "X"
   ]
  },
  {
   "cell_type": "code",
   "execution_count": 11,
   "metadata": {},
   "outputs": [
    {
     "name": "stderr",
     "output_type": "stream",
     "text": [
      "C:\\Users\\USER\\Anaconda3\\lib\\site-packages\\sklearn\\preprocessing\\_encoders.py:368: FutureWarning: The handling of integer data will change in version 0.22. Currently, the categories are determined based on the range [0, max(values)], while in the future they will be determined based on the unique values.\n",
      "If you want the future behaviour and silence this warning, you can specify \"categories='auto'\".\n",
      "In case you used a LabelEncoder before this OneHotEncoder to convert the categories to integers, then you can now use the OneHotEncoder directly.\n",
      "  warnings.warn(msg, FutureWarning)\n",
      "C:\\Users\\USER\\Anaconda3\\lib\\site-packages\\sklearn\\preprocessing\\_encoders.py:390: DeprecationWarning: The 'categorical_features' keyword is deprecated in version 0.20 and will be removed in 0.22. You can use the ColumnTransformer instead.\n",
      "  \"use the ColumnTransformer instead.\", DeprecationWarning)\n"
     ]
    }
   ],
   "source": [
    "onehotencoder = OneHotEncoder(categorical_features = [1])\n",
    "X = onehotencoder.fit_transform(X).toarray()\n",
    "X = X[:, 1:]"
   ]
  },
  {
   "cell_type": "code",
   "execution_count": 12,
   "metadata": {},
   "outputs": [],
   "source": [
    "# Splitting the dataset into the Training set and Test set\n",
    "from sklearn.model_selection import train_test_split\n",
    "X_train, X_test, y_train, y_test = train_test_split(X, y, test_size = 0.2)"
   ]
  },
  {
   "cell_type": "code",
   "execution_count": 13,
   "metadata": {},
   "outputs": [],
   "source": [
    "# Feature Scaling\n",
    "from sklearn.preprocessing import StandardScaler\n",
    "sc = StandardScaler()\n",
    "X_train = sc.fit_transform(X_train)\n",
    "X_test = sc.transform(X_test)"
   ]
  },
  {
   "cell_type": "code",
   "execution_count": 14,
   "metadata": {},
   "outputs": [],
   "source": [
    "# Importing the Keras libraries and packages\n",
    "import keras\n",
    "from keras.models import Sequential\n",
    "from keras.layers import Dense"
   ]
  },
  {
   "cell_type": "code",
   "execution_count": 15,
   "metadata": {},
   "outputs": [],
   "source": [
    "#Initializing Neural Network\n",
    "classifier = Sequential()"
   ]
  },
  {
   "cell_type": "code",
   "execution_count": 16,
   "metadata": {},
   "outputs": [
    {
     "name": "stderr",
     "output_type": "stream",
     "text": [
      "C:\\Users\\USER\\Anaconda3\\lib\\site-packages\\ipykernel_launcher.py:2: UserWarning: Update your `Dense` call to the Keras 2 API: `Dense(activation=\"relu\", input_dim=11, units=6, kernel_initializer=\"uniform\")`\n",
      "  \n",
      "C:\\Users\\USER\\Anaconda3\\lib\\site-packages\\ipykernel_launcher.py:4: UserWarning: Update your `Dense` call to the Keras 2 API: `Dense(activation=\"relu\", units=6, kernel_initializer=\"uniform\")`\n",
      "  after removing the cwd from sys.path.\n",
      "C:\\Users\\USER\\Anaconda3\\lib\\site-packages\\ipykernel_launcher.py:6: UserWarning: Update your `Dense` call to the Keras 2 API: `Dense(activation=\"sigmoid\", units=1, kernel_initializer=\"uniform\")`\n",
      "  \n"
     ]
    }
   ],
   "source": [
    "# Adding the input layer and the first hidden layer\n",
    "classifier.add(Dense(output_dim = 6, init = 'uniform', activation = 'relu', input_dim = 11))\n",
    "# Adding the second hidden layer\n",
    "classifier.add(Dense(output_dim = 6, init = 'uniform', activation = 'relu'))\n",
    "# Adding the output layer\n",
    "classifier.add(Dense(output_dim = 1, init = 'uniform', activation = 'sigmoid'))"
   ]
  },
  {
   "cell_type": "code",
   "execution_count": 17,
   "metadata": {},
   "outputs": [],
   "source": [
    "# Compiling Neural Network\n",
    "classifier.compile(optimizer = 'adam', loss = 'binary_crossentropy', metrics = ['accuracy'])"
   ]
  },
  {
   "cell_type": "code",
   "execution_count": 18,
   "metadata": {},
   "outputs": [
    {
     "name": "stderr",
     "output_type": "stream",
     "text": [
      "C:\\Users\\USER\\Anaconda3\\lib\\site-packages\\ipykernel_launcher.py:2: UserWarning: The `nb_epoch` argument in `fit` has been renamed `epochs`.\n",
      "  \n"
     ]
    },
    {
     "name": "stdout",
     "output_type": "stream",
     "text": [
      "Epoch 1/100\n",
      "8000/8000 [==============================] - 2s 272us/step - loss: 0.4912 - acc: 0.7962\n",
      "Epoch 2/100\n",
      "8000/8000 [==============================] - 1s 144us/step - loss: 0.4270 - acc: 0.7967\n",
      "Epoch 3/100\n",
      "8000/8000 [==============================] - 1s 116us/step - loss: 0.4220 - acc: 0.7967\n",
      "Epoch 4/100\n",
      "8000/8000 [==============================] - 1s 121us/step - loss: 0.4177 - acc: 0.8146\n",
      "Epoch 5/100\n",
      "8000/8000 [==============================] - 1s 123us/step - loss: 0.4148 - acc: 0.8270\n",
      "Epoch 6/100\n",
      "8000/8000 [==============================] - 1s 118us/step - loss: 0.4130 - acc: 0.8296\n",
      "Epoch 7/100\n",
      "8000/8000 [==============================] - 1s 117us/step - loss: 0.4118 - acc: 0.8331\n",
      "Epoch 8/100\n",
      "8000/8000 [==============================] - 1s 118us/step - loss: 0.4102 - acc: 0.8339\n",
      "Epoch 9/100\n",
      "8000/8000 [==============================] - 1s 126us/step - loss: 0.4086 - acc: 0.8344\n",
      "Epoch 10/100\n",
      "8000/8000 [==============================] - 1s 113us/step - loss: 0.4079 - acc: 0.8340\n",
      "Epoch 11/100\n",
      "8000/8000 [==============================] - 1s 117us/step - loss: 0.4072 - acc: 0.8350\n",
      "Epoch 12/100\n",
      "8000/8000 [==============================] - 1s 114us/step - loss: 0.4061 - acc: 0.8345\n",
      "Epoch 13/100\n",
      "8000/8000 [==============================] - 1s 115us/step - loss: 0.4050 - acc: 0.8361\n",
      "Epoch 14/100\n",
      "8000/8000 [==============================] - 1s 115us/step - loss: 0.4047 - acc: 0.8366\n",
      "Epoch 15/100\n",
      "8000/8000 [==============================] - 1s 118us/step - loss: 0.4039 - acc: 0.8362\n",
      "Epoch 16/100\n",
      "8000/8000 [==============================] - 1s 116us/step - loss: 0.4036 - acc: 0.8347\n",
      "Epoch 17/100\n",
      "8000/8000 [==============================] - 1s 127us/step - loss: 0.4029 - acc: 0.8365\n",
      "Epoch 18/100\n",
      "8000/8000 [==============================] - 1s 129us/step - loss: 0.4019 - acc: 0.8357\n",
      "Epoch 19/100\n",
      "8000/8000 [==============================] - 1s 118us/step - loss: 0.4023 - acc: 0.8356\n",
      "Epoch 20/100\n",
      "8000/8000 [==============================] - 1s 126us/step - loss: 0.4021 - acc: 0.8361\n",
      "Epoch 21/100\n",
      "8000/8000 [==============================] - 1s 127us/step - loss: 0.4014 - acc: 0.8345\n",
      "Epoch 22/100\n",
      "8000/8000 [==============================] - 1s 120us/step - loss: 0.4015 - acc: 0.8364\n",
      "Epoch 23/100\n",
      "8000/8000 [==============================] - 1s 128us/step - loss: 0.4009 - acc: 0.8355\n",
      "Epoch 24/100\n",
      "8000/8000 [==============================] - 1s 119us/step - loss: 0.4013 - acc: 0.8362\n",
      "Epoch 25/100\n",
      "8000/8000 [==============================] - 1s 127us/step - loss: 0.4008 - acc: 0.8364\n",
      "Epoch 26/100\n",
      "8000/8000 [==============================] - 1s 126us/step - loss: 0.4010 - acc: 0.8372\n",
      "Epoch 27/100\n",
      "8000/8000 [==============================] - 1s 121us/step - loss: 0.4001 - acc: 0.8376\n",
      "Epoch 28/100\n",
      "8000/8000 [==============================] - 1s 123us/step - loss: 0.4007 - acc: 0.8352\n",
      "Epoch 29/100\n",
      "8000/8000 [==============================] - 1s 125us/step - loss: 0.3999 - acc: 0.8357\n",
      "Epoch 30/100\n",
      "8000/8000 [==============================] - 1s 124us/step - loss: 0.4004 - acc: 0.8365\n",
      "Epoch 31/100\n",
      "8000/8000 [==============================] - 1s 118us/step - loss: 0.3996 - acc: 0.8382\n",
      "Epoch 32/100\n",
      "8000/8000 [==============================] - 1s 125us/step - loss: 0.3997 - acc: 0.8375\n",
      "Epoch 33/100\n",
      "8000/8000 [==============================] - 1s 123us/step - loss: 0.4000 - acc: 0.8371\n",
      "Epoch 34/100\n",
      "8000/8000 [==============================] - 1s 133us/step - loss: 0.3997 - acc: 0.8365\n",
      "Epoch 35/100\n",
      "8000/8000 [==============================] - 1s 131us/step - loss: 0.3994 - acc: 0.8362\n",
      "Epoch 36/100\n",
      "8000/8000 [==============================] - 1s 134us/step - loss: 0.3994 - acc: 0.8349\n",
      "Epoch 37/100\n",
      "8000/8000 [==============================] - 1s 126us/step - loss: 0.3996 - acc: 0.8357\n",
      "Epoch 38/100\n",
      "8000/8000 [==============================] - 1s 127us/step - loss: 0.3992 - acc: 0.8357\n",
      "Epoch 39/100\n",
      "8000/8000 [==============================] - 1s 122us/step - loss: 0.3992 - acc: 0.8377\n",
      "Epoch 40/100\n",
      "8000/8000 [==============================] - 1s 134us/step - loss: 0.3994 - acc: 0.8377\n",
      "Epoch 41/100\n",
      "8000/8000 [==============================] - 1s 125us/step - loss: 0.3995 - acc: 0.8362\n",
      "Epoch 42/100\n",
      "8000/8000 [==============================] - 1s 126us/step - loss: 0.3993 - acc: 0.8372\n",
      "Epoch 43/100\n",
      "8000/8000 [==============================] - 1s 129us/step - loss: 0.3988 - acc: 0.8365\n",
      "Epoch 44/100\n",
      "8000/8000 [==============================] - 1s 149us/step - loss: 0.3995 - acc: 0.8369\n",
      "Epoch 45/100\n",
      "8000/8000 [==============================] - 1s 137us/step - loss: 0.3995 - acc: 0.8372\n",
      "Epoch 46/100\n",
      "8000/8000 [==============================] - 1s 139us/step - loss: 0.3987 - acc: 0.8375\n",
      "Epoch 47/100\n",
      "8000/8000 [==============================] - 1s 146us/step - loss: 0.3988 - acc: 0.8356\n",
      "Epoch 48/100\n",
      "8000/8000 [==============================] - 1s 146us/step - loss: 0.3992 - acc: 0.8361\n",
      "Epoch 49/100\n",
      "8000/8000 [==============================] - 1s 136us/step - loss: 0.3987 - acc: 0.8371\n",
      "Epoch 50/100\n",
      "8000/8000 [==============================] - 1s 140us/step - loss: 0.3986 - acc: 0.8374\n",
      "Epoch 51/100\n",
      "8000/8000 [==============================] - 2s 195us/step - loss: 0.3990 - acc: 0.8370\n",
      "Epoch 52/100\n",
      "8000/8000 [==============================] - 2s 204us/step - loss: 0.3987 - acc: 0.8370\n",
      "Epoch 53/100\n",
      "8000/8000 [==============================] - 1s 163us/step - loss: 0.3986 - acc: 0.8372\n",
      "Epoch 54/100\n",
      "8000/8000 [==============================] - 1s 162us/step - loss: 0.3986 - acc: 0.8371\n",
      "Epoch 55/100\n",
      "8000/8000 [==============================] - 1s 146us/step - loss: 0.3984 - acc: 0.8372\n",
      "Epoch 56/100\n",
      "8000/8000 [==============================] - 1s 146us/step - loss: 0.3990 - acc: 0.8381\n",
      "Epoch 57/100\n",
      "8000/8000 [==============================] - 1s 133us/step - loss: 0.3986 - acc: 0.8379\n",
      "Epoch 58/100\n",
      "8000/8000 [==============================] - 1s 134us/step - loss: 0.3985 - acc: 0.8371\n",
      "Epoch 59/100\n",
      "8000/8000 [==============================] - 1s 133us/step - loss: 0.3984 - acc: 0.8375\n",
      "Epoch 60/100\n",
      "8000/8000 [==============================] - 1s 141us/step - loss: 0.3986 - acc: 0.8389\n",
      "Epoch 61/100\n",
      "8000/8000 [==============================] - 1s 138us/step - loss: 0.3984 - acc: 0.8364\n",
      "Epoch 62/100\n",
      "8000/8000 [==============================] - 1s 156us/step - loss: 0.3987 - acc: 0.8366\n",
      "Epoch 63/100\n",
      "8000/8000 [==============================] - 1s 138us/step - loss: 0.3987 - acc: 0.8372\n",
      "Epoch 64/100\n",
      "8000/8000 [==============================] - 1s 141us/step - loss: 0.3989 - acc: 0.8377\n",
      "Epoch 65/100\n",
      "8000/8000 [==============================] - 1s 147us/step - loss: 0.3985 - acc: 0.8362\n",
      "Epoch 66/100\n",
      "8000/8000 [==============================] - 1s 137us/step - loss: 0.3985 - acc: 0.8374\n",
      "Epoch 67/100\n",
      "8000/8000 [==============================] - 1s 133us/step - loss: 0.3982 - acc: 0.8376\n",
      "Epoch 68/100\n",
      "8000/8000 [==============================] - 1s 134us/step - loss: 0.3988 - acc: 0.8377\n",
      "Epoch 69/100\n",
      "8000/8000 [==============================] - 1s 165us/step - loss: 0.3981 - acc: 0.8367\n",
      "Epoch 70/100\n",
      "8000/8000 [==============================] - 1s 154us/step - loss: 0.3983 - acc: 0.8379\n",
      "Epoch 71/100\n",
      "8000/8000 [==============================] - 1s 147us/step - loss: 0.3987 - acc: 0.8370\n",
      "Epoch 72/100\n",
      "8000/8000 [==============================] - 1s 169us/step - loss: 0.3985 - acc: 0.8375\n",
      "Epoch 73/100\n",
      "8000/8000 [==============================] - 1s 152us/step - loss: 0.3982 - acc: 0.8364\n",
      "Epoch 74/100\n",
      "8000/8000 [==============================] - 1s 155us/step - loss: 0.3979 - acc: 0.8370\n",
      "Epoch 75/100\n",
      "8000/8000 [==============================] - 1s 150us/step - loss: 0.3985 - acc: 0.8371\n",
      "Epoch 76/100\n",
      "8000/8000 [==============================] - 1s 144us/step - loss: 0.3981 - acc: 0.8371\n",
      "Epoch 77/100\n",
      "8000/8000 [==============================] - 1s 167us/step - loss: 0.3981 - acc: 0.8384\n",
      "Epoch 78/100\n",
      "8000/8000 [==============================] - 1s 147us/step - loss: 0.3980 - acc: 0.8380\n",
      "Epoch 79/100\n",
      "8000/8000 [==============================] - 2s 249us/step - loss: 0.3984 - acc: 0.8382\n",
      "Epoch 80/100\n",
      "8000/8000 [==============================] - 2s 305us/step - loss: 0.3985 - acc: 0.8381\n",
      "Epoch 81/100\n"
     ]
    },
    {
     "name": "stdout",
     "output_type": "stream",
     "text": [
      "8000/8000 [==============================] - 2s 258us/step - loss: 0.3980 - acc: 0.8375 2s -\n",
      "Epoch 82/100\n",
      "8000/8000 [==============================] - 1s 157us/step - loss: 0.3981 - acc: 0.8359\n",
      "Epoch 83/100\n",
      "8000/8000 [==============================] - 1s 149us/step - loss: 0.3986 - acc: 0.8364\n",
      "Epoch 84/100\n",
      "8000/8000 [==============================] - 1s 145us/step - loss: 0.3981 - acc: 0.8356 1s - loss\n",
      "Epoch 85/100\n",
      "8000/8000 [==============================] - 1s 156us/step - loss: 0.3981 - acc: 0.8386\n",
      "Epoch 86/100\n",
      "8000/8000 [==============================] - 1s 160us/step - loss: 0.3985 - acc: 0.8371\n",
      "Epoch 87/100\n",
      "8000/8000 [==============================] - 1s 170us/step - loss: 0.3977 - acc: 0.8379\n",
      "Epoch 88/100\n",
      "8000/8000 [==============================] - 1s 168us/step - loss: 0.3980 - acc: 0.8352\n",
      "Epoch 89/100\n",
      "8000/8000 [==============================] - 1s 144us/step - loss: 0.3983 - acc: 0.8375\n",
      "Epoch 90/100\n",
      "8000/8000 [==============================] - 1s 162us/step - loss: 0.3981 - acc: 0.8381\n",
      "Epoch 91/100\n",
      "8000/8000 [==============================] - 1s 179us/step - loss: 0.3982 - acc: 0.8364\n",
      "Epoch 92/100\n",
      "8000/8000 [==============================] - 1s 167us/step - loss: 0.3983 - acc: 0.8371\n",
      "Epoch 93/100\n",
      "8000/8000 [==============================] - 1s 162us/step - loss: 0.3976 - acc: 0.8382\n",
      "Epoch 94/100\n",
      "8000/8000 [==============================] - 2s 214us/step - loss: 0.3982 - acc: 0.8374\n",
      "Epoch 95/100\n",
      "8000/8000 [==============================] - 2s 202us/step - loss: 0.3981 - acc: 0.8385\n",
      "Epoch 96/100\n",
      "8000/8000 [==============================] - 1s 177us/step - loss: 0.3981 - acc: 0.8376\n",
      "Epoch 97/100\n",
      "8000/8000 [==============================] - 1s 146us/step - loss: 0.3978 - acc: 0.8361\n",
      "Epoch 98/100\n",
      "8000/8000 [==============================] - 2s 199us/step - loss: 0.3981 - acc: 0.8355\n",
      "Epoch 99/100\n",
      "8000/8000 [==============================] - 1s 151us/step - loss: 0.3981 - acc: 0.8366\n",
      "Epoch 100/100\n",
      "8000/8000 [==============================] - 2s 195us/step - loss: 0.3984 - acc: 0.8377\n"
     ]
    },
    {
     "data": {
      "text/plain": [
       "<keras.callbacks.History at 0xdc49470>"
      ]
     },
     "execution_count": 18,
     "metadata": {},
     "output_type": "execute_result"
    }
   ],
   "source": [
    "# Fitting our model \n",
    "classifier.fit(X_train, y_train, batch_size = 10, nb_epoch = 100)"
   ]
  },
  {
   "cell_type": "code",
   "execution_count": 19,
   "metadata": {},
   "outputs": [],
   "source": [
    "# Predicting the Test set results\n",
    "y_pred = classifier.predict(X_test)\n",
    "y_pred = (y_pred > 0.5)"
   ]
  },
  {
   "cell_type": "code",
   "execution_count": 20,
   "metadata": {},
   "outputs": [],
   "source": [
    "# Creating the Confusion Matrix\n",
    "from sklearn.metrics import confusion_matrix\n",
    "cm = confusion_matrix(y_test, y_pred)"
   ]
  },
  {
   "cell_type": "markdown",
   "metadata": {},
   "source": [
    "### Second Example using TF"
   ]
  },
  {
   "cell_type": "code",
   "execution_count": 21,
   "metadata": {},
   "outputs": [
    {
     "name": "stdout",
     "output_type": "stream",
     "text": [
      "1.10.0\n"
     ]
    }
   ],
   "source": [
    "from __future__ import absolute_import, division, print_function\n",
    "\n",
    "# TensorFlow and tf.keras\n",
    "import tensorflow as tf\n",
    "from tensorflow import keras\n",
    "\n",
    "# Helper libraries\n",
    "import numpy as np\n",
    "import matplotlib.pyplot as plt\n",
    "\n",
    "print(tf.__version__)"
   ]
  },
  {
   "cell_type": "code",
   "execution_count": 22,
   "metadata": {},
   "outputs": [
    {
     "name": "stdout",
     "output_type": "stream",
     "text": [
      "Downloading data from https://storage.googleapis.com/tensorflow/tf-keras-datasets/train-labels-idx1-ubyte.gz\n",
      "32768/29515 [=================================] - 0s 1us/step\n",
      "Downloading data from https://storage.googleapis.com/tensorflow/tf-keras-datasets/train-images-idx3-ubyte.gz\n",
      "26427392/26421880 [==============================] - 16s 1us/step\n",
      "Downloading data from https://storage.googleapis.com/tensorflow/tf-keras-datasets/t10k-labels-idx1-ubyte.gz\n",
      "8192/5148 [===============================================] - 0s 0us/step\n",
      "Downloading data from https://storage.googleapis.com/tensorflow/tf-keras-datasets/t10k-images-idx3-ubyte.gz\n",
      "4423680/4422102 [==============================] - 2s 0us/step\n"
     ]
    }
   ],
   "source": [
    "fashion_mnist = keras.datasets.fashion_mnist\n",
    "\n",
    "(train_images, train_labels), (test_images, test_labels) = fashion_mnist.load_data()"
   ]
  },
  {
   "cell_type": "code",
   "execution_count": 23,
   "metadata": {},
   "outputs": [],
   "source": [
    "class_names = ['T-shirt/top', 'Trouser', 'Pullover', 'Dress', 'Coat', \n",
    "               'Sandal', 'Shirt', 'Sneaker', 'Bag', 'Ankle boot']"
   ]
  },
  {
   "cell_type": "code",
   "execution_count": 24,
   "metadata": {},
   "outputs": [
    {
     "data": {
      "text/plain": [
       "(60000, 28, 28)"
      ]
     },
     "execution_count": 24,
     "metadata": {},
     "output_type": "execute_result"
    }
   ],
   "source": [
    "train_images.shape"
   ]
  },
  {
   "cell_type": "code",
   "execution_count": 25,
   "metadata": {},
   "outputs": [
    {
     "data": {
      "text/plain": [
       "60000"
      ]
     },
     "execution_count": 25,
     "metadata": {},
     "output_type": "execute_result"
    }
   ],
   "source": [
    "len(train_labels)"
   ]
  },
  {
   "cell_type": "code",
   "execution_count": 26,
   "metadata": {},
   "outputs": [
    {
     "data": {
      "text/plain": [
       "array([9, 0, 0, ..., 3, 0, 5], dtype=uint8)"
      ]
     },
     "execution_count": 26,
     "metadata": {},
     "output_type": "execute_result"
    }
   ],
   "source": [
    "train_labels"
   ]
  },
  {
   "cell_type": "code",
   "execution_count": 27,
   "metadata": {},
   "outputs": [
    {
     "data": {
      "text/plain": [
       "(10000, 28, 28)"
      ]
     },
     "execution_count": 27,
     "metadata": {},
     "output_type": "execute_result"
    }
   ],
   "source": [
    "test_images.shape"
   ]
  },
  {
   "cell_type": "code",
   "execution_count": 28,
   "metadata": {},
   "outputs": [
    {
     "data": {
      "text/plain": [
       "10000"
      ]
     },
     "execution_count": 28,
     "metadata": {},
     "output_type": "execute_result"
    }
   ],
   "source": [
    "len(test_labels)"
   ]
  },
  {
   "cell_type": "code",
   "execution_count": 29,
   "metadata": {},
   "outputs": [
    {
     "data": {
      "image/png": "[encoded data removed]",
      "text/plain": [
       "<Figure size 432x288 with 2 Axes>"
      ]
     },
     "metadata": {},
     "output_type": "display_data"
    }
   ],
   "source": [
    "plt.figure()\n",
    "plt.imshow(train_images[0])\n",
    "plt.colorbar()\n",
    "plt.grid(False)\n",
    "plt.show()"
   ]
  },
  {
   "cell_type": "code",
   "execution_count": 30,
   "metadata": {},
   "outputs": [],
   "source": [
    "train_images = train_images / 255.0\n",
    "\n",
    "test_images = test_images / 255.0"
   ]
  },
  {
   "cell_type": "code",
   "execution_count": 31,
   "metadata": {},
   "outputs": [
    {
     "data": {
      "image/png": "[encoded data removed]",
      "text/plain": [
       "<Figure size 720x720 with 25 Axes>"
      ]
     },
     "metadata": {},
     "output_type": "display_data"
    }
   ],
   "source": [
    "plt.figure(figsize=(10,10))\n",
    "for i in range(25):\n",
    "    plt.subplot(5,5,i+1)\n",
    "    plt.xticks([])\n",
    "    plt.yticks([])\n",
    "    plt.grid(False)\n",
    "    plt.imshow(train_images[i], cmap=plt.cm.binary)\n",
    "    plt.xlabel(class_names[train_labels[i]])\n",
    "plt.show()"
   ]
  },
  {
   "cell_type": "code",
   "execution_count": 32,
   "metadata": {},
   "outputs": [],
   "source": [
    "model = keras.Sequential([\n",
    "    keras.layers.Flatten(input_shape=(28, 28)),\n",
    "    keras.layers.Dense(128, activation=tf.nn.relu),\n",
    "    keras.layers.Dense(10, activation=tf.nn.softmax)\n",
    "])"
   ]
  },
  {
   "cell_type": "code",
   "execution_count": 33,
   "metadata": {},
   "outputs": [],
   "source": [
    "model.compile(optimizer='adam', \n",
    "              loss='sparse_categorical_crossentropy',\n",
    "              metrics=['accuracy'])"
   ]
  },
  {
   "cell_type": "code",
   "execution_count": 34,
   "metadata": {},
   "outputs": [
    {
     "name": "stdout",
     "output_type": "stream",
     "text": [
      "Epoch 1/5\n",
      "60000/60000 [==============================] - 6s 99us/step - loss: 0.5006 - acc: 0.8241\n",
      "Epoch 2/5\n",
      "60000/60000 [==============================] - 6s 96us/step - loss: 0.3776 - acc: 0.8637\n",
      "Epoch 3/5\n",
      "60000/60000 [==============================] - 6s 98us/step - loss: 0.3356 - acc: 0.8775\n",
      "Epoch 4/5\n",
      "60000/60000 [==============================] - 6s 100us/step - loss: 0.3139 - acc: 0.8848\n",
      "Epoch 5/5\n",
      "60000/60000 [==============================] - 6s 98us/step - loss: 0.2930 - acc: 0.8914\n"
     ]
    },
    {
     "data": {
      "text/plain": [
       "<tensorflow.python.keras.callbacks.History at 0x11e6cd68>"
      ]
     },
     "execution_count": 34,
     "metadata": {},
     "output_type": "execute_result"
    }
   ],
   "source": [
    "model.fit(train_images, train_labels, epochs=5)"
   ]
  },
  {
   "cell_type": "code",
   "execution_count": 35,
   "metadata": {},
   "outputs": [
    {
     "name": "stdout",
     "output_type": "stream",
     "text": [
      "10000/10000 [==============================] - 0s 38us/step\n",
      "Test accuracy: 0.8676\n"
     ]
    }
   ],
   "source": [
    "test_loss, test_acc = model.evaluate(test_images, test_labels)\n",
    "\n",
    "print('Test accuracy:', test_acc)"
   ]
  },
  {
   "cell_type": "code",
   "execution_count": 36,
   "metadata": {},
   "outputs": [],
   "source": [
    "predictions = model.predict(test_images)"
   ]
  },
  {
   "cell_type": "code",
   "execution_count": 37,
   "metadata": {},
   "outputs": [
    {
     "data": {
      "text/plain": [
       "array([5.8968499e-07, 3.8780644e-08, 4.4482391e-09, 3.2098831e-07,\n",
       "       6.4304118e-09, 1.0293823e-03, 1.1822410e-06, 1.6145695e-02,\n",
       "       1.3791507e-05, 9.8280901e-01], dtype=float32)"
      ]
     },
     "execution_count": 37,
     "metadata": {},
     "output_type": "execute_result"
    }
   ],
   "source": [
    "predictions[0]"
   ]
  },
  {
   "cell_type": "code",
   "execution_count": 38,
   "metadata": {},
   "outputs": [
    {
     "data": {
      "text/plain": [
       "9"
      ]
     },
     "execution_count": 38,
     "metadata": {},
     "output_type": "execute_result"
    }
   ],
   "source": [
    "np.argmax(predictions[0])"
   ]
  },
  {
   "cell_type": "code",
   "execution_count": 39,
   "metadata": {},
   "outputs": [
    {
     "data": {
      "text/plain": [
       "9"
      ]
     },
     "execution_count": 39,
     "metadata": {},
     "output_type": "execute_result"
    }
   ],
   "source": [
    "test_labels[0]"
   ]
  },
  {
   "cell_type": "code",
   "execution_count": 40,
   "metadata": {},
   "outputs": [],
   "source": [
    "def plot_image(i, predictions_array, true_label, img):\n",
    "  predictions_array, true_label, img = predictions_array[i], true_label[i], img[i]\n",
    "  plt.grid(False)\n",
    "  plt.xticks([])\n",
    "  plt.yticks([])\n",
    "  \n",
    "  plt.imshow(img, cmap=plt.cm.binary)\n",
    "\n",
    "  predicted_label = np.argmax(predictions_array)\n",
    "  if predicted_label == true_label:\n",
    "    color = 'blue'\n",
    "  else:\n",
    "    color = 'red'\n",
    "  \n",
    "  plt.xlabel(\"{} {:2.0f}% ({})\".format(class_names[predicted_label],\n",
    "                                100*np.max(predictions_array),\n",
    "                                class_names[true_label]),\n",
    "                                color=color)\n",
    "\n",
    "def plot_value_array(i, predictions_array, true_label):\n",
    "  predictions_array, true_label = predictions_array[i], true_label[i]\n",
    "  plt.grid(False)\n",
    "  plt.xticks([])\n",
    "  plt.yticks([])\n",
    "  thisplot = plt.bar(range(10), predictions_array, color=\"#777777\")\n",
    "  plt.ylim([0, 1]) \n",
    "  predicted_label = np.argmax(predictions_array)\n",
    " \n",
    "  thisplot[predicted_label].set_color('red')\n",
    "  thisplot[true_label].set_color('blue')"
   ]
  },
  {
   "cell_type": "code",
   "execution_count": 41,
   "metadata": {},
   "outputs": [
    {
     "data": {
      "image/png": "[encoded data removed]",
      "text/plain": [
       "<Figure size 432x216 with 2 Axes>"
      ]
     },
     "metadata": {},
     "output_type": "display_data"
    }
   ],
   "source": [
    "i = 0\n",
    "plt.figure(figsize=(6,3))\n",
    "plt.subplot(1,2,1)\n",
    "plot_image(i, predictions, test_labels, test_images)\n",
    "plt.subplot(1,2,2)\n",
    "plot_value_array(i, predictions,  test_labels)"
   ]
  },
  {
   "cell_type": "code",
   "execution_count": 42,
   "metadata": {},
   "outputs": [
    {
     "data": {
      "image/png": "[encoded data removed]",
      "text/plain": [
       "<Figure size 432x216 with 2 Axes>"
      ]
     },
     "metadata": {},
     "output_type": "display_data"
    }
   ],
   "source": [
    "i = 12\n",
    "plt.figure(figsize=(6,3))\n",
    "plt.subplot(1,2,1)\n",
    "plot_image(i, predictions, test_labels, test_images)\n",
    "plt.subplot(1,2,2)\n",
    "plot_value_array(i, predictions,  test_labels)"
   ]
  },
  {
   "cell_type": "code",
   "execution_count": 43,
   "metadata": {},
   "outputs": [
    {
     "data": {
      "image/png": "[encoded data removed]",
      "text/plain": [
       "<Figure size 864x720 with 30 Axes>"
      ]
     },
     "metadata": {},
     "output_type": "display_data"
    }
   ],
   "source": [
    "# Plot the first X test images, their predicted label, and the true label\n",
    "# Color correct predictions in blue, incorrect predictions in red\n",
    "num_rows = 5\n",
    "num_cols = 3\n",
    "num_images = num_rows*num_cols\n",
    "plt.figure(figsize=(2*2*num_cols, 2*num_rows))\n",
    "for i in range(num_images):\n",
    "  plt.subplot(num_rows, 2*num_cols, 2*i+1)\n",
    "  plot_image(i, predictions, test_labels, test_images)\n",
    "  plt.subplot(num_rows, 2*num_cols, 2*i+2)\n",
    "  plot_value_array(i, predictions, test_labels)"
   ]
  },
  {
   "cell_type": "code",
   "execution_count": 44,
   "metadata": {},
   "outputs": [
    {
     "name": "stdout",
     "output_type": "stream",
     "text": [
      "(28, 28)\n"
     ]
    }
   ],
   "source": [
    "# Grab an image from the test dataset\n",
    "img = test_images[0]\n",
    "\n",
    "print(img.shape)"
   ]
  },
  {
   "cell_type": "code",
   "execution_count": 45,
   "metadata": {},
   "outputs": [
    {
     "name": "stdout",
     "output_type": "stream",
     "text": [
      "(1, 28, 28)\n"
     ]
    }
   ],
   "source": [
    "# Add the image to a batch where it's the only member.\n",
    "img = (np.expand_dims(img,0))\n",
    "\n",
    "print(img.shape)"
   ]
  },
  {
   "cell_type": "code",
   "execution_count": 46,
   "metadata": {},
   "outputs": [
    {
     "name": "stdout",
     "output_type": "stream",
     "text": [
      "[[5.8968442e-07 3.8780716e-08 4.4482475e-09 3.2098831e-07 6.4304242e-09\n",
      "  1.0293813e-03 1.1822410e-06 1.6145712e-02 1.3791520e-05 9.8280901e-01]]\n"
     ]
    }
   ],
   "source": [
    "predictions_single = model.predict(img)\n",
    "\n",
    "print(predictions_single)"
   ]
  },
  {
   "cell_type": "code",
   "execution_count": 47,
   "metadata": {},
   "outputs": [
    {
     "data": {
      "image/png": "[encoded data removed]",
      "text/plain": [
       "<Figure size 432x288 with 1 Axes>"
      ]
     },
     "metadata": {},
     "output_type": "display_data"
    }
   ],
   "source": [
    "plot_value_array(0, predictions_single, test_labels)\n",
    "_ = plt.xticks(range(10), class_names, rotation=45)"
   ]
  },
  {
   "cell_type": "code",
   "execution_count": 48,
   "metadata": {},
   "outputs": [
    {
     "data": {
      "text/plain": [
       "9"
      ]
     },
     "execution_count": 48,
     "metadata": {},
     "output_type": "execute_result"
    }
   ],
   "source": [
    "np.argmax(predictions_single[0])"
   ]
  },
  {
   "cell_type": "code",
   "execution_count": null,
   "metadata": {},
   "outputs": [],
   "source": []
  }
 ],
 "metadata": {
  "kernelspec": {
   "display_name": "Python 3",
   "language": "python",
   "name": "python3"
  },
  "language_info": {
   "codemirror_mode": {
    "name": "ipython",
    "version": 3
   },
   "file_extension": ".py",
   "mimetype": "text/x-python",
   "name": "python",
   "nbconvert_exporter": "python",
   "pygments_lexer": "ipython3",
   "version": "3.6.5"
  }
 },
 "nbformat": 4,
 "nbformat_minor": 2
}
