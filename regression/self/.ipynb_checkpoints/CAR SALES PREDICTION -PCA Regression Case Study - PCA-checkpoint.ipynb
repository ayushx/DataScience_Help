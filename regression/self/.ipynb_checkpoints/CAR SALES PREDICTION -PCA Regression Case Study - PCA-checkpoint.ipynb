{
 "cells": [
  {
   "cell_type": "code",
   "execution_count": 1,
   "metadata": {},
   "outputs": [
    {
     "name": "stdout",
     "output_type": "stream",
     "text": [
      "Populating the interactive namespace from numpy and matplotlib\n"
     ]
    }
   ],
   "source": [
    "import os\n",
    "import pandas as pd\n",
    "import numpy as np\n",
    "import matplotlib.pyplot as plt\n",
    "import seaborn as sns\n",
    "import pandas_profiling   #need to install using anaconda prompt (pip install pandas_profiling)\n",
    "%pylab inline"
   ]
  },
  {
   "cell_type": "code",
   "execution_count": 2,
   "metadata": {},
   "outputs": [],
   "source": [
    "from sklearn.model_selection import train_test_split\n",
    "import sklearn.linear_model\n",
    "import sklearn.metrics as metrics"
   ]
  },
  {
   "cell_type": "code",
   "execution_count": 61,
   "metadata": {},
   "outputs": [],
   "source": [
    "import statsmodels.formula.api as smp"
   ]
  },
  {
   "cell_type": "markdown",
   "metadata": {},
   "source": [
    "## Data Prepration"
   ]
  },
  {
   "cell_type": "code",
   "execution_count": 62,
   "metadata": {},
   "outputs": [],
   "source": [
    "data=pd.read_csv('Car_sales.csv')"
   ]
  },
  {
   "cell_type": "code",
   "execution_count": 63,
   "metadata": {},
   "outputs": [
    {
     "name": "stdout",
     "output_type": "stream",
     "text": [
      "<class 'pandas.core.frame.DataFrame'>\n",
      "RangeIndex: 157 entries, 0 to 156\n",
      "Data columns (total 16 columns):\n",
      "Manufacturer              157 non-null object\n",
      "Model                     157 non-null object\n",
      "Sales_in_thousands        157 non-null float64\n",
      "four_year_resale_value    121 non-null float64\n",
      "Vehicle_type              157 non-null object\n",
      "Price_in_thousands        155 non-null float64\n",
      "Engine_size               156 non-null float64\n",
      "Horsepower                156 non-null float64\n",
      "Wheelbase                 156 non-null float64\n",
      "Width                     156 non-null float64\n",
      "Length                    156 non-null float64\n",
      "Curb_weight               155 non-null float64\n",
      "Fuel_capacity             156 non-null float64\n",
      "Fuel_efficiency           154 non-null float64\n",
      "Latest_Launch             157 non-null object\n",
      "Power_perf_factor         155 non-null float64\n",
      "dtypes: float64(12), object(4)\n",
      "memory usage: 19.7+ KB\n"
     ]
    }
   ],
   "source": [
    "data.info()"
   ]
  },
  {
   "cell_type": "code",
   "execution_count": 64,
   "metadata": {},
   "outputs": [
    {
     "data": {
      "text/html": [
       "<div>\n",
       "<style scoped>\n",
       "    .dataframe tbody tr th:only-of-type {\n",
       "        vertical-align: middle;\n",
       "    }\n",
       "\n",
       "    .dataframe tbody tr th {\n",
       "        vertical-align: top;\n",
       "    }\n",
       "\n",
       "    .dataframe thead th {\n",
       "        text-align: right;\n",
       "    }\n",
       "</style>\n",
       "<table border=\"1\" class=\"dataframe\">\n",
       "  <thead>\n",
       "    <tr style=\"text-align: right;\">\n",
       "      <th></th>\n",
       "      <th>Manufacturer</th>\n",
       "      <th>Model</th>\n",
       "      <th>Sales_in_thousands</th>\n",
       "      <th>four_year_resale_value</th>\n",
       "      <th>Vehicle_type</th>\n",
       "      <th>Price_in_thousands</th>\n",
       "      <th>Engine_size</th>\n",
       "      <th>Horsepower</th>\n",
       "      <th>Wheelbase</th>\n",
       "      <th>Width</th>\n",
       "      <th>Length</th>\n",
       "      <th>Curb_weight</th>\n",
       "      <th>Fuel_capacity</th>\n",
       "      <th>Fuel_efficiency</th>\n",
       "      <th>Latest_Launch</th>\n",
       "      <th>Power_perf_factor</th>\n",
       "    </tr>\n",
       "  </thead>\n",
       "  <tbody>\n",
       "    <tr>\n",
       "      <th>0</th>\n",
       "      <td>Acura</td>\n",
       "      <td>Integra</td>\n",
       "      <td>16.919</td>\n",
       "      <td>16.360</td>\n",
       "      <td>Passenger</td>\n",
       "      <td>21.50</td>\n",
       "      <td>1.8</td>\n",
       "      <td>140.0</td>\n",
       "      <td>101.2</td>\n",
       "      <td>67.3</td>\n",
       "      <td>172.4</td>\n",
       "      <td>2.639</td>\n",
       "      <td>13.2</td>\n",
       "      <td>28.0</td>\n",
       "      <td>2/2/2012</td>\n",
       "      <td>58.280150</td>\n",
       "    </tr>\n",
       "    <tr>\n",
       "      <th>1</th>\n",
       "      <td>Acura</td>\n",
       "      <td>TL</td>\n",
       "      <td>39.384</td>\n",
       "      <td>19.875</td>\n",
       "      <td>Passenger</td>\n",
       "      <td>28.40</td>\n",
       "      <td>3.2</td>\n",
       "      <td>225.0</td>\n",
       "      <td>108.1</td>\n",
       "      <td>70.3</td>\n",
       "      <td>192.9</td>\n",
       "      <td>3.517</td>\n",
       "      <td>17.2</td>\n",
       "      <td>25.0</td>\n",
       "      <td>6/3/2011</td>\n",
       "      <td>91.370778</td>\n",
       "    </tr>\n",
       "    <tr>\n",
       "      <th>2</th>\n",
       "      <td>Acura</td>\n",
       "      <td>CL</td>\n",
       "      <td>14.114</td>\n",
       "      <td>18.225</td>\n",
       "      <td>Passenger</td>\n",
       "      <td>NaN</td>\n",
       "      <td>3.2</td>\n",
       "      <td>225.0</td>\n",
       "      <td>106.9</td>\n",
       "      <td>70.6</td>\n",
       "      <td>192.0</td>\n",
       "      <td>3.470</td>\n",
       "      <td>17.2</td>\n",
       "      <td>26.0</td>\n",
       "      <td>1/4/2012</td>\n",
       "      <td>NaN</td>\n",
       "    </tr>\n",
       "    <tr>\n",
       "      <th>3</th>\n",
       "      <td>Acura</td>\n",
       "      <td>RL</td>\n",
       "      <td>8.588</td>\n",
       "      <td>29.725</td>\n",
       "      <td>Passenger</td>\n",
       "      <td>42.00</td>\n",
       "      <td>3.5</td>\n",
       "      <td>210.0</td>\n",
       "      <td>114.6</td>\n",
       "      <td>71.4</td>\n",
       "      <td>196.6</td>\n",
       "      <td>3.850</td>\n",
       "      <td>18.0</td>\n",
       "      <td>22.0</td>\n",
       "      <td>3/10/2011</td>\n",
       "      <td>91.389779</td>\n",
       "    </tr>\n",
       "    <tr>\n",
       "      <th>4</th>\n",
       "      <td>Audi</td>\n",
       "      <td>A4</td>\n",
       "      <td>20.397</td>\n",
       "      <td>22.255</td>\n",
       "      <td>Passenger</td>\n",
       "      <td>23.99</td>\n",
       "      <td>1.8</td>\n",
       "      <td>150.0</td>\n",
       "      <td>102.6</td>\n",
       "      <td>68.2</td>\n",
       "      <td>178.0</td>\n",
       "      <td>2.998</td>\n",
       "      <td>16.4</td>\n",
       "      <td>27.0</td>\n",
       "      <td>10/8/2011</td>\n",
       "      <td>62.777639</td>\n",
       "    </tr>\n",
       "    <tr>\n",
       "      <th>5</th>\n",
       "      <td>Audi</td>\n",
       "      <td>A6</td>\n",
       "      <td>18.780</td>\n",
       "      <td>23.555</td>\n",
       "      <td>Passenger</td>\n",
       "      <td>33.95</td>\n",
       "      <td>2.8</td>\n",
       "      <td>200.0</td>\n",
       "      <td>108.7</td>\n",
       "      <td>76.1</td>\n",
       "      <td>192.0</td>\n",
       "      <td>3.561</td>\n",
       "      <td>18.5</td>\n",
       "      <td>22.0</td>\n",
       "      <td>8/9/2011</td>\n",
       "      <td>84.565105</td>\n",
       "    </tr>\n",
       "    <tr>\n",
       "      <th>6</th>\n",
       "      <td>Audi</td>\n",
       "      <td>A8</td>\n",
       "      <td>1.380</td>\n",
       "      <td>39.000</td>\n",
       "      <td>Passenger</td>\n",
       "      <td>62.00</td>\n",
       "      <td>4.2</td>\n",
       "      <td>310.0</td>\n",
       "      <td>113.0</td>\n",
       "      <td>74.0</td>\n",
       "      <td>198.2</td>\n",
       "      <td>3.902</td>\n",
       "      <td>23.7</td>\n",
       "      <td>21.0</td>\n",
       "      <td>2/27/2012</td>\n",
       "      <td>134.656858</td>\n",
       "    </tr>\n",
       "    <tr>\n",
       "      <th>7</th>\n",
       "      <td>BMW</td>\n",
       "      <td>323i</td>\n",
       "      <td>19.747</td>\n",
       "      <td>NaN</td>\n",
       "      <td>Passenger</td>\n",
       "      <td>26.99</td>\n",
       "      <td>2.5</td>\n",
       "      <td>170.0</td>\n",
       "      <td>107.3</td>\n",
       "      <td>68.4</td>\n",
       "      <td>176.0</td>\n",
       "      <td>3.179</td>\n",
       "      <td>16.6</td>\n",
       "      <td>26.0</td>\n",
       "      <td>6/28/2011</td>\n",
       "      <td>71.191207</td>\n",
       "    </tr>\n",
       "    <tr>\n",
       "      <th>8</th>\n",
       "      <td>BMW</td>\n",
       "      <td>328i</td>\n",
       "      <td>9.231</td>\n",
       "      <td>28.675</td>\n",
       "      <td>Passenger</td>\n",
       "      <td>33.40</td>\n",
       "      <td>2.8</td>\n",
       "      <td>193.0</td>\n",
       "      <td>107.3</td>\n",
       "      <td>68.5</td>\n",
       "      <td>176.0</td>\n",
       "      <td>3.197</td>\n",
       "      <td>16.6</td>\n",
       "      <td>24.0</td>\n",
       "      <td>1/29/2012</td>\n",
       "      <td>81.877069</td>\n",
       "    </tr>\n",
       "    <tr>\n",
       "      <th>9</th>\n",
       "      <td>BMW</td>\n",
       "      <td>528i</td>\n",
       "      <td>17.527</td>\n",
       "      <td>36.125</td>\n",
       "      <td>Passenger</td>\n",
       "      <td>38.90</td>\n",
       "      <td>2.8</td>\n",
       "      <td>193.0</td>\n",
       "      <td>111.4</td>\n",
       "      <td>70.9</td>\n",
       "      <td>188.0</td>\n",
       "      <td>3.472</td>\n",
       "      <td>18.5</td>\n",
       "      <td>25.0</td>\n",
       "      <td>4/4/2011</td>\n",
       "      <td>83.998724</td>\n",
       "    </tr>\n",
       "  </tbody>\n",
       "</table>\n",
       "</div>"
      ],
      "text/plain": [
       "  Manufacturer    Model  Sales_in_thousands  four_year_resale_value  \\\n",
       "0        Acura  Integra              16.919                  16.360   \n",
       "1        Acura       TL              39.384                  19.875   \n",
       "2        Acura       CL              14.114                  18.225   \n",
       "3        Acura       RL               8.588                  29.725   \n",
       "4         Audi       A4              20.397                  22.255   \n",
       "5         Audi       A6              18.780                  23.555   \n",
       "6         Audi       A8               1.380                  39.000   \n",
       "7          BMW     323i              19.747                     NaN   \n",
       "8          BMW     328i               9.231                  28.675   \n",
       "9          BMW     528i              17.527                  36.125   \n",
       "\n",
       "  Vehicle_type  Price_in_thousands  Engine_size  Horsepower  Wheelbase  Width  \\\n",
       "0    Passenger               21.50          1.8       140.0      101.2   67.3   \n",
       "1    Passenger               28.40          3.2       225.0      108.1   70.3   \n",
       "2    Passenger                 NaN          3.2       225.0      106.9   70.6   \n",
       "3    Passenger               42.00          3.5       210.0      114.6   71.4   \n",
       "4    Passenger               23.99          1.8       150.0      102.6   68.2   \n",
       "5    Passenger               33.95          2.8       200.0      108.7   76.1   \n",
       "6    Passenger               62.00          4.2       310.0      113.0   74.0   \n",
       "7    Passenger               26.99          2.5       170.0      107.3   68.4   \n",
       "8    Passenger               33.40          2.8       193.0      107.3   68.5   \n",
       "9    Passenger               38.90          2.8       193.0      111.4   70.9   \n",
       "\n",
       "   Length  Curb_weight  Fuel_capacity  Fuel_efficiency Latest_Launch  \\\n",
       "0   172.4        2.639           13.2             28.0      2/2/2012   \n",
       "1   192.9        3.517           17.2             25.0      6/3/2011   \n",
       "2   192.0        3.470           17.2             26.0      1/4/2012   \n",
       "3   196.6        3.850           18.0             22.0     3/10/2011   \n",
       "4   178.0        2.998           16.4             27.0     10/8/2011   \n",
       "5   192.0        3.561           18.5             22.0      8/9/2011   \n",
       "6   198.2        3.902           23.7             21.0     2/27/2012   \n",
       "7   176.0        3.179           16.6             26.0     6/28/2011   \n",
       "8   176.0        3.197           16.6             24.0     1/29/2012   \n",
       "9   188.0        3.472           18.5             25.0      4/4/2011   \n",
       "\n",
       "   Power_perf_factor  \n",
       "0          58.280150  \n",
       "1          91.370778  \n",
       "2                NaN  \n",
       "3          91.389779  \n",
       "4          62.777639  \n",
       "5          84.565105  \n",
       "6         134.656858  \n",
       "7          71.191207  \n",
       "8          81.877069  \n",
       "9          83.998724  "
      ]
     },
     "execution_count": 64,
     "metadata": {},
     "output_type": "execute_result"
    }
   ],
   "source": [
    "data.head(10)"
   ]
  },
  {
   "cell_type": "code",
   "execution_count": 65,
   "metadata": {},
   "outputs": [],
   "source": [
    "#Data Manipulation - Changing the data types of variables"
   ]
  },
  {
   "cell_type": "code",
   "execution_count": 66,
   "metadata": {},
   "outputs": [
    {
     "data": {
      "text/html": [
       "<div>\n",
       "<style scoped>\n",
       "    .dataframe tbody tr th:only-of-type {\n",
       "        vertical-align: middle;\n",
       "    }\n",
       "\n",
       "    .dataframe tbody tr th {\n",
       "        vertical-align: top;\n",
       "    }\n",
       "\n",
       "    .dataframe thead th {\n",
       "        text-align: right;\n",
       "    }\n",
       "</style>\n",
       "<table border=\"1\" class=\"dataframe\">\n",
       "  <thead>\n",
       "    <tr style=\"text-align: right;\">\n",
       "      <th></th>\n",
       "      <th>Manufacturer</th>\n",
       "      <th>Model</th>\n",
       "      <th>Sales_in_thousands</th>\n",
       "      <th>four_year_resale_value</th>\n",
       "      <th>Vehicle_type</th>\n",
       "      <th>Price_in_thousands</th>\n",
       "      <th>Engine_size</th>\n",
       "      <th>Horsepower</th>\n",
       "      <th>Wheelbase</th>\n",
       "      <th>Width</th>\n",
       "      <th>Length</th>\n",
       "      <th>Curb_weight</th>\n",
       "      <th>Fuel_capacity</th>\n",
       "      <th>Fuel_efficiency</th>\n",
       "      <th>Latest_Launch</th>\n",
       "      <th>Power_perf_factor</th>\n",
       "      <th>Latest_Launch_days</th>\n",
       "    </tr>\n",
       "  </thead>\n",
       "  <tbody>\n",
       "    <tr>\n",
       "      <th>0</th>\n",
       "      <td>Acura</td>\n",
       "      <td>Integra</td>\n",
       "      <td>16.919</td>\n",
       "      <td>16.360</td>\n",
       "      <td>Passenger</td>\n",
       "      <td>21.50</td>\n",
       "      <td>1.8</td>\n",
       "      <td>140.0</td>\n",
       "      <td>101.2</td>\n",
       "      <td>67.3</td>\n",
       "      <td>172.4</td>\n",
       "      <td>2.639</td>\n",
       "      <td>13.2</td>\n",
       "      <td>28.0</td>\n",
       "      <td>2/2/2012</td>\n",
       "      <td>58.280150</td>\n",
       "      <td>2691.0</td>\n",
       "    </tr>\n",
       "    <tr>\n",
       "      <th>1</th>\n",
       "      <td>Acura</td>\n",
       "      <td>TL</td>\n",
       "      <td>39.384</td>\n",
       "      <td>19.875</td>\n",
       "      <td>Passenger</td>\n",
       "      <td>28.40</td>\n",
       "      <td>3.2</td>\n",
       "      <td>225.0</td>\n",
       "      <td>108.1</td>\n",
       "      <td>70.3</td>\n",
       "      <td>192.9</td>\n",
       "      <td>3.517</td>\n",
       "      <td>17.2</td>\n",
       "      <td>25.0</td>\n",
       "      <td>6/3/2011</td>\n",
       "      <td>91.370778</td>\n",
       "      <td>2935.0</td>\n",
       "    </tr>\n",
       "    <tr>\n",
       "      <th>2</th>\n",
       "      <td>Acura</td>\n",
       "      <td>CL</td>\n",
       "      <td>14.114</td>\n",
       "      <td>18.225</td>\n",
       "      <td>Passenger</td>\n",
       "      <td>NaN</td>\n",
       "      <td>3.2</td>\n",
       "      <td>225.0</td>\n",
       "      <td>106.9</td>\n",
       "      <td>70.6</td>\n",
       "      <td>192.0</td>\n",
       "      <td>3.470</td>\n",
       "      <td>17.2</td>\n",
       "      <td>26.0</td>\n",
       "      <td>1/4/2012</td>\n",
       "      <td>NaN</td>\n",
       "      <td>2720.0</td>\n",
       "    </tr>\n",
       "    <tr>\n",
       "      <th>3</th>\n",
       "      <td>Acura</td>\n",
       "      <td>RL</td>\n",
       "      <td>8.588</td>\n",
       "      <td>29.725</td>\n",
       "      <td>Passenger</td>\n",
       "      <td>42.00</td>\n",
       "      <td>3.5</td>\n",
       "      <td>210.0</td>\n",
       "      <td>114.6</td>\n",
       "      <td>71.4</td>\n",
       "      <td>196.6</td>\n",
       "      <td>3.850</td>\n",
       "      <td>18.0</td>\n",
       "      <td>22.0</td>\n",
       "      <td>3/10/2011</td>\n",
       "      <td>91.389779</td>\n",
       "      <td>3020.0</td>\n",
       "    </tr>\n",
       "    <tr>\n",
       "      <th>4</th>\n",
       "      <td>Audi</td>\n",
       "      <td>A4</td>\n",
       "      <td>20.397</td>\n",
       "      <td>22.255</td>\n",
       "      <td>Passenger</td>\n",
       "      <td>23.99</td>\n",
       "      <td>1.8</td>\n",
       "      <td>150.0</td>\n",
       "      <td>102.6</td>\n",
       "      <td>68.2</td>\n",
       "      <td>178.0</td>\n",
       "      <td>2.998</td>\n",
       "      <td>16.4</td>\n",
       "      <td>27.0</td>\n",
       "      <td>10/8/2011</td>\n",
       "      <td>62.777639</td>\n",
       "      <td>2808.0</td>\n",
       "    </tr>\n",
       "  </tbody>\n",
       "</table>\n",
       "</div>"
      ],
      "text/plain": [
       "  Manufacturer    Model  Sales_in_thousands  four_year_resale_value  \\\n",
       "0        Acura  Integra              16.919                  16.360   \n",
       "1        Acura       TL              39.384                  19.875   \n",
       "2        Acura       CL              14.114                  18.225   \n",
       "3        Acura       RL               8.588                  29.725   \n",
       "4         Audi       A4              20.397                  22.255   \n",
       "\n",
       "  Vehicle_type  Price_in_thousands  Engine_size  Horsepower  Wheelbase  Width  \\\n",
       "0    Passenger               21.50          1.8       140.0      101.2   67.3   \n",
       "1    Passenger               28.40          3.2       225.0      108.1   70.3   \n",
       "2    Passenger                 NaN          3.2       225.0      106.9   70.6   \n",
       "3    Passenger               42.00          3.5       210.0      114.6   71.4   \n",
       "4    Passenger               23.99          1.8       150.0      102.6   68.2   \n",
       "\n",
       "   Length  Curb_weight  Fuel_capacity  Fuel_efficiency Latest_Launch  \\\n",
       "0   172.4        2.639           13.2             28.0      2/2/2012   \n",
       "1   192.9        3.517           17.2             25.0      6/3/2011   \n",
       "2   192.0        3.470           17.2             26.0      1/4/2012   \n",
       "3   196.6        3.850           18.0             22.0     3/10/2011   \n",
       "4   178.0        2.998           16.4             27.0     10/8/2011   \n",
       "\n",
       "   Power_perf_factor  Latest_Launch_days  \n",
       "0          58.280150              2691.0  \n",
       "1          91.370778              2935.0  \n",
       "2                NaN              2720.0  \n",
       "3          91.389779              3020.0  \n",
       "4          62.777639              2808.0  "
      ]
     },
     "execution_count": 66,
     "metadata": {},
     "output_type": "execute_result"
    }
   ],
   "source": [
    "now = pd.Timestamp('now')\n",
    "data['Latest_Launch_days'] = pd.to_datetime(data['Latest_Launch'], format='%m/%d/%Y')    # 1\n",
    "data['Latest_Launch_days'] = data['Latest_Launch_days'].where(data['Latest_Launch_days'] < now, data['Latest_Launch_days'] -  np.timedelta64(100, 'Y'))   # 2\n",
    "data['Latest_Launch_days'] = (now - data['Latest_Launch_days']).astype('<m8[D]')    # 3\n",
    "# print(df)\n",
    "data.head()"
   ]
  },
  {
   "cell_type": "code",
   "execution_count": null,
   "metadata": {},
   "outputs": [],
   "source": []
  },
  {
   "cell_type": "code",
   "execution_count": 67,
   "metadata": {},
   "outputs": [],
   "source": [
    "def Manufacturer_rename(x):\n",
    "    x = x.split('-')\n",
    "#     print(x)\n",
    "    if len(x)>=2:\n",
    "        x = '_'.join(x)\n",
    "#         print(x)\n",
    "        return x\n",
    "    else:\n",
    "        return ' '.join(x)"
   ]
  },
  {
   "cell_type": "code",
   "execution_count": 68,
   "metadata": {},
   "outputs": [],
   "source": [
    "data['Manufacturer'] = data.Manufacturer.apply(lambda x: Manufacturer_rename(x))"
   ]
  },
  {
   "cell_type": "code",
   "execution_count": 69,
   "metadata": {},
   "outputs": [],
   "source": [
    "def model_renameBysize(x):\n",
    "    x = x.split()\n",
    "#     print(x)\n",
    "    if len(x)>=2:\n",
    "        x = '_'.join(x)\n",
    "#         print(x)\n",
    "        return x\n",
    "    else:\n",
    "        return ' '.join(x)"
   ]
  },
  {
   "cell_type": "code",
   "execution_count": 70,
   "metadata": {},
   "outputs": [],
   "source": [
    "data['Model'] = data.Model.apply(lambda x: model_renameBysize(x))"
   ]
  },
  {
   "cell_type": "code",
   "execution_count": 71,
   "metadata": {},
   "outputs": [],
   "source": [
    "def model_renameByformat(x):\n",
    "    x = x.split('-')\n",
    "#     print(x)\n",
    "    if len(x)>=2:\n",
    "        x = '_'.join(x)\n",
    "#         print(x)\n",
    "        return x\n",
    "    else:\n",
    "        return ' '.join(x)"
   ]
  },
  {
   "cell_type": "code",
   "execution_count": 72,
   "metadata": {},
   "outputs": [],
   "source": [
    "data['Model'] = data.Model.apply(lambda x: model_renameByformat(x))"
   ]
  },
  {
   "cell_type": "code",
   "execution_count": 73,
   "metadata": {},
   "outputs": [],
   "source": [
    "data = data.drop(['Latest_Launch'], axis=1)"
   ]
  },
  {
   "cell_type": "code",
   "execution_count": 17,
   "metadata": {},
   "outputs": [],
   "source": [
    "#Handling Outliers - Method2"
   ]
  },
  {
   "cell_type": "code",
   "execution_count": 18,
   "metadata": {},
   "outputs": [],
   "source": [
    "# numeric_var_names=[key for key in dict(data.dtypes) if dict(data.dtypes)[key] in ['float64', 'int64', 'float32', 'int32']]\n",
    "# cat_var_names=[key for key in dict(data.dtypes) if dict(data.dtypes)[key] in ['object']]\n",
    "# print(numeric_var_names)\n",
    "# print(cat_var_names)"
   ]
  },
  {
   "cell_type": "code",
   "execution_count": 19,
   "metadata": {},
   "outputs": [],
   "source": [
    "numerical_var = data.dtypes.loc[(data.dtypes=='float64')|(data.dtypes=='int64')].index.tolist()\n",
    "categorical_var = data.dtypes.loc[(data.dtypes=='object')].index.tolist()"
   ]
  },
  {
   "cell_type": "code",
   "execution_count": 20,
   "metadata": {},
   "outputs": [],
   "source": [
    "data_num = data[numerical_var]"
   ]
  },
  {
   "cell_type": "code",
   "execution_count": 21,
   "metadata": {},
   "outputs": [],
   "source": [
    "data_cat = data[categorical_var]"
   ]
  },
  {
   "cell_type": "code",
   "execution_count": 22,
   "metadata": {},
   "outputs": [],
   "source": [
    "#Handling Outliers - Numerical\n",
    "def outlier_capping(x):\n",
    "    x = x.clip_upper(x.quantile(0.99))\n",
    "    x = x.clip_lower(x.quantile(0.01))\n",
    "    return x\n",
    "\n",
    "data_num=data_num.apply(lambda x: outlier_capping(x))\n",
    "\n",
    "# data.loc[data.Price_in_thousands>78.47980000000007]\n",
    "# data.Price_in_thousands.quantile(0.99)"
   ]
  },
  {
   "cell_type": "code",
   "execution_count": 23,
   "metadata": {},
   "outputs": [],
   "source": [
    "#Handling missings"
   ]
  },
  {
   "cell_type": "code",
   "execution_count": 24,
   "metadata": {},
   "outputs": [],
   "source": [
    "#Numeric data\n",
    "def Missing_imputation(x):\n",
    "    x = x.fillna(x.median())\n",
    "    return x\n",
    "\n",
    "data_num=data_num.apply(lambda x: Missing_imputation(x))"
   ]
  },
  {
   "cell_type": "code",
   "execution_count": 77,
   "metadata": {},
   "outputs": [],
   "source": [
    "#Categorical data\n",
    "def Cat_Missing_imputation(x):\n",
    "    x = x.fillna(x.mode())\n",
    "    return x\n",
    "\n",
    "data_cat=data_cat.apply(lambda x: Cat_Missing_imputation(x))"
   ]
  },
  {
   "cell_type": "code",
   "execution_count": null,
   "metadata": {},
   "outputs": [],
   "source": []
  },
  {
   "cell_type": "code",
   "execution_count": 78,
   "metadata": {},
   "outputs": [],
   "source": [
    "# An utility function to create dummy variable"
   ]
  },
  {
   "cell_type": "code",
   "execution_count": 79,
   "metadata": {},
   "outputs": [],
   "source": [
    "def create_dummies( df, colname ):\n",
    "    col_dummies = pd.get_dummies(df[colname], prefix=colname, drop_first=True)\n",
    "    df = pd.concat([df, col_dummies], axis=1)\n",
    "    df.drop( colname, axis = 1, inplace = True )\n",
    "    return df\n",
    "\n",
    "for c_feature in data_cat.columns:\n",
    "    data_cat[c_feature] = data_cat[c_feature].astype('category')\n",
    "    data_cat = create_dummies(data_cat , c_feature )"
   ]
  },
  {
   "cell_type": "code",
   "execution_count": 80,
   "metadata": {},
   "outputs": [
    {
     "data": {
      "text/html": [
       "<div>\n",
       "<style scoped>\n",
       "    .dataframe tbody tr th:only-of-type {\n",
       "        vertical-align: middle;\n",
       "    }\n",
       "\n",
       "    .dataframe tbody tr th {\n",
       "        vertical-align: top;\n",
       "    }\n",
       "\n",
       "    .dataframe thead th {\n",
       "        text-align: right;\n",
       "    }\n",
       "</style>\n",
       "<table border=\"1\" class=\"dataframe\">\n",
       "  <thead>\n",
       "    <tr style=\"text-align: right;\">\n",
       "      <th></th>\n",
       "      <th>Manufacturer_Audi_1</th>\n",
       "      <th>Manufacturer_BMW_1</th>\n",
       "      <th>Manufacturer_Buick_1</th>\n",
       "      <th>Manufacturer_Cadillac_1</th>\n",
       "      <th>Manufacturer_Chevrolet_1</th>\n",
       "      <th>Manufacturer_Chrysler_1</th>\n",
       "      <th>Manufacturer_Dodge_1</th>\n",
       "      <th>Manufacturer_Ford_1</th>\n",
       "      <th>Manufacturer_Honda_1</th>\n",
       "      <th>Manufacturer_Hyundai_1</th>\n",
       "      <th>...</th>\n",
       "      <th>Model_Town_car_1</th>\n",
       "      <th>Model_V40_1</th>\n",
       "      <th>Model_V70_1</th>\n",
       "      <th>Model_Villager_1</th>\n",
       "      <th>Model_Viper_1</th>\n",
       "      <th>Model_Voyager_1</th>\n",
       "      <th>Model_Windstar_1</th>\n",
       "      <th>Model_Wrangler_1</th>\n",
       "      <th>Model_Xterra_1</th>\n",
       "      <th>Vehicle_type_Passenger_1</th>\n",
       "    </tr>\n",
       "  </thead>\n",
       "  <tbody>\n",
       "    <tr>\n",
       "      <th>0</th>\n",
       "      <td>0</td>\n",
       "      <td>0</td>\n",
       "      <td>0</td>\n",
       "      <td>0</td>\n",
       "      <td>0</td>\n",
       "      <td>0</td>\n",
       "      <td>0</td>\n",
       "      <td>0</td>\n",
       "      <td>0</td>\n",
       "      <td>0</td>\n",
       "      <td>...</td>\n",
       "      <td>0</td>\n",
       "      <td>0</td>\n",
       "      <td>0</td>\n",
       "      <td>0</td>\n",
       "      <td>0</td>\n",
       "      <td>0</td>\n",
       "      <td>0</td>\n",
       "      <td>0</td>\n",
       "      <td>0</td>\n",
       "      <td>1</td>\n",
       "    </tr>\n",
       "    <tr>\n",
       "      <th>1</th>\n",
       "      <td>0</td>\n",
       "      <td>0</td>\n",
       "      <td>0</td>\n",
       "      <td>0</td>\n",
       "      <td>0</td>\n",
       "      <td>0</td>\n",
       "      <td>0</td>\n",
       "      <td>0</td>\n",
       "      <td>0</td>\n",
       "      <td>0</td>\n",
       "      <td>...</td>\n",
       "      <td>0</td>\n",
       "      <td>0</td>\n",
       "      <td>0</td>\n",
       "      <td>0</td>\n",
       "      <td>0</td>\n",
       "      <td>0</td>\n",
       "      <td>0</td>\n",
       "      <td>0</td>\n",
       "      <td>0</td>\n",
       "      <td>1</td>\n",
       "    </tr>\n",
       "    <tr>\n",
       "      <th>2</th>\n",
       "      <td>0</td>\n",
       "      <td>0</td>\n",
       "      <td>0</td>\n",
       "      <td>0</td>\n",
       "      <td>0</td>\n",
       "      <td>0</td>\n",
       "      <td>0</td>\n",
       "      <td>0</td>\n",
       "      <td>0</td>\n",
       "      <td>0</td>\n",
       "      <td>...</td>\n",
       "      <td>0</td>\n",
       "      <td>0</td>\n",
       "      <td>0</td>\n",
       "      <td>0</td>\n",
       "      <td>0</td>\n",
       "      <td>0</td>\n",
       "      <td>0</td>\n",
       "      <td>0</td>\n",
       "      <td>0</td>\n",
       "      <td>1</td>\n",
       "    </tr>\n",
       "    <tr>\n",
       "      <th>3</th>\n",
       "      <td>0</td>\n",
       "      <td>0</td>\n",
       "      <td>0</td>\n",
       "      <td>0</td>\n",
       "      <td>0</td>\n",
       "      <td>0</td>\n",
       "      <td>0</td>\n",
       "      <td>0</td>\n",
       "      <td>0</td>\n",
       "      <td>0</td>\n",
       "      <td>...</td>\n",
       "      <td>0</td>\n",
       "      <td>0</td>\n",
       "      <td>0</td>\n",
       "      <td>0</td>\n",
       "      <td>0</td>\n",
       "      <td>0</td>\n",
       "      <td>0</td>\n",
       "      <td>0</td>\n",
       "      <td>0</td>\n",
       "      <td>1</td>\n",
       "    </tr>\n",
       "    <tr>\n",
       "      <th>4</th>\n",
       "      <td>1</td>\n",
       "      <td>0</td>\n",
       "      <td>0</td>\n",
       "      <td>0</td>\n",
       "      <td>0</td>\n",
       "      <td>0</td>\n",
       "      <td>0</td>\n",
       "      <td>0</td>\n",
       "      <td>0</td>\n",
       "      <td>0</td>\n",
       "      <td>...</td>\n",
       "      <td>0</td>\n",
       "      <td>0</td>\n",
       "      <td>0</td>\n",
       "      <td>0</td>\n",
       "      <td>0</td>\n",
       "      <td>0</td>\n",
       "      <td>0</td>\n",
       "      <td>0</td>\n",
       "      <td>0</td>\n",
       "      <td>1</td>\n",
       "    </tr>\n",
       "  </tbody>\n",
       "</table>\n",
       "<p>5 rows × 185 columns</p>\n",
       "</div>"
      ],
      "text/plain": [
       "   Manufacturer_Audi_1  Manufacturer_BMW_1  Manufacturer_Buick_1  \\\n",
       "0                    0                   0                     0   \n",
       "1                    0                   0                     0   \n",
       "2                    0                   0                     0   \n",
       "3                    0                   0                     0   \n",
       "4                    1                   0                     0   \n",
       "\n",
       "   Manufacturer_Cadillac_1  Manufacturer_Chevrolet_1  Manufacturer_Chrysler_1  \\\n",
       "0                        0                         0                        0   \n",
       "1                        0                         0                        0   \n",
       "2                        0                         0                        0   \n",
       "3                        0                         0                        0   \n",
       "4                        0                         0                        0   \n",
       "\n",
       "   Manufacturer_Dodge_1  Manufacturer_Ford_1  Manufacturer_Honda_1  \\\n",
       "0                     0                    0                     0   \n",
       "1                     0                    0                     0   \n",
       "2                     0                    0                     0   \n",
       "3                     0                    0                     0   \n",
       "4                     0                    0                     0   \n",
       "\n",
       "   Manufacturer_Hyundai_1            ...             Model_Town_car_1  \\\n",
       "0                       0            ...                            0   \n",
       "1                       0            ...                            0   \n",
       "2                       0            ...                            0   \n",
       "3                       0            ...                            0   \n",
       "4                       0            ...                            0   \n",
       "\n",
       "   Model_V40_1  Model_V70_1  Model_Villager_1  Model_Viper_1  Model_Voyager_1  \\\n",
       "0            0            0                 0              0                0   \n",
       "1            0            0                 0              0                0   \n",
       "2            0            0                 0              0                0   \n",
       "3            0            0                 0              0                0   \n",
       "4            0            0                 0              0                0   \n",
       "\n",
       "   Model_Windstar_1  Model_Wrangler_1  Model_Xterra_1  \\\n",
       "0                 0                 0               0   \n",
       "1                 0                 0               0   \n",
       "2                 0                 0               0   \n",
       "3                 0                 0               0   \n",
       "4                 0                 0               0   \n",
       "\n",
       "   Vehicle_type_Passenger_1  \n",
       "0                         1  \n",
       "1                         1  \n",
       "2                         1  \n",
       "3                         1  \n",
       "4                         1  \n",
       "\n",
       "[5 rows x 185 columns]"
      ]
     },
     "execution_count": 80,
     "metadata": {},
     "output_type": "execute_result"
    }
   ],
   "source": [
    "data_cat.head()"
   ]
  },
  {
   "cell_type": "code",
   "execution_count": 29,
   "metadata": {},
   "outputs": [],
   "source": [
    "# Concated new data"
   ]
  },
  {
   "cell_type": "code",
   "execution_count": 30,
   "metadata": {},
   "outputs": [
    {
     "data": {
      "text/html": [
       "<div>\n",
       "<style scoped>\n",
       "    .dataframe tbody tr th:only-of-type {\n",
       "        vertical-align: middle;\n",
       "    }\n",
       "\n",
       "    .dataframe tbody tr th {\n",
       "        vertical-align: top;\n",
       "    }\n",
       "\n",
       "    .dataframe thead th {\n",
       "        text-align: right;\n",
       "    }\n",
       "</style>\n",
       "<table border=\"1\" class=\"dataframe\">\n",
       "  <thead>\n",
       "    <tr style=\"text-align: right;\">\n",
       "      <th></th>\n",
       "      <th>Sales_in_thousands</th>\n",
       "      <th>four_year_resale_value</th>\n",
       "      <th>Price_in_thousands</th>\n",
       "      <th>Engine_size</th>\n",
       "      <th>Horsepower</th>\n",
       "      <th>Wheelbase</th>\n",
       "      <th>Width</th>\n",
       "      <th>Length</th>\n",
       "      <th>Curb_weight</th>\n",
       "      <th>Fuel_capacity</th>\n",
       "      <th>...</th>\n",
       "      <th>Model_Town_car</th>\n",
       "      <th>Model_V40</th>\n",
       "      <th>Model_V70</th>\n",
       "      <th>Model_Villager</th>\n",
       "      <th>Model_Viper</th>\n",
       "      <th>Model_Voyager</th>\n",
       "      <th>Model_Windstar</th>\n",
       "      <th>Model_Wrangler</th>\n",
       "      <th>Model_Xterra</th>\n",
       "      <th>Vehicle_type_Passenger</th>\n",
       "    </tr>\n",
       "  </thead>\n",
       "  <tbody>\n",
       "    <tr>\n",
       "      <th>0</th>\n",
       "      <td>16.919</td>\n",
       "      <td>16.360</td>\n",
       "      <td>21.500</td>\n",
       "      <td>1.8</td>\n",
       "      <td>140.0</td>\n",
       "      <td>101.2</td>\n",
       "      <td>67.3</td>\n",
       "      <td>172.4</td>\n",
       "      <td>2.639</td>\n",
       "      <td>13.2</td>\n",
       "      <td>...</td>\n",
       "      <td>0</td>\n",
       "      <td>0</td>\n",
       "      <td>0</td>\n",
       "      <td>0</td>\n",
       "      <td>0</td>\n",
       "      <td>0</td>\n",
       "      <td>0</td>\n",
       "      <td>0</td>\n",
       "      <td>0</td>\n",
       "      <td>1</td>\n",
       "    </tr>\n",
       "    <tr>\n",
       "      <th>1</th>\n",
       "      <td>39.384</td>\n",
       "      <td>19.875</td>\n",
       "      <td>28.400</td>\n",
       "      <td>3.2</td>\n",
       "      <td>225.0</td>\n",
       "      <td>108.1</td>\n",
       "      <td>70.3</td>\n",
       "      <td>192.9</td>\n",
       "      <td>3.517</td>\n",
       "      <td>17.2</td>\n",
       "      <td>...</td>\n",
       "      <td>0</td>\n",
       "      <td>0</td>\n",
       "      <td>0</td>\n",
       "      <td>0</td>\n",
       "      <td>0</td>\n",
       "      <td>0</td>\n",
       "      <td>0</td>\n",
       "      <td>0</td>\n",
       "      <td>0</td>\n",
       "      <td>1</td>\n",
       "    </tr>\n",
       "    <tr>\n",
       "      <th>2</th>\n",
       "      <td>14.114</td>\n",
       "      <td>18.225</td>\n",
       "      <td>22.799</td>\n",
       "      <td>3.2</td>\n",
       "      <td>225.0</td>\n",
       "      <td>106.9</td>\n",
       "      <td>70.6</td>\n",
       "      <td>192.0</td>\n",
       "      <td>3.470</td>\n",
       "      <td>17.2</td>\n",
       "      <td>...</td>\n",
       "      <td>0</td>\n",
       "      <td>0</td>\n",
       "      <td>0</td>\n",
       "      <td>0</td>\n",
       "      <td>0</td>\n",
       "      <td>0</td>\n",
       "      <td>0</td>\n",
       "      <td>0</td>\n",
       "      <td>0</td>\n",
       "      <td>1</td>\n",
       "    </tr>\n",
       "    <tr>\n",
       "      <th>3</th>\n",
       "      <td>8.588</td>\n",
       "      <td>29.725</td>\n",
       "      <td>42.000</td>\n",
       "      <td>3.5</td>\n",
       "      <td>210.0</td>\n",
       "      <td>114.6</td>\n",
       "      <td>71.4</td>\n",
       "      <td>196.6</td>\n",
       "      <td>3.850</td>\n",
       "      <td>18.0</td>\n",
       "      <td>...</td>\n",
       "      <td>0</td>\n",
       "      <td>0</td>\n",
       "      <td>0</td>\n",
       "      <td>0</td>\n",
       "      <td>0</td>\n",
       "      <td>0</td>\n",
       "      <td>0</td>\n",
       "      <td>0</td>\n",
       "      <td>0</td>\n",
       "      <td>1</td>\n",
       "    </tr>\n",
       "    <tr>\n",
       "      <th>4</th>\n",
       "      <td>20.397</td>\n",
       "      <td>22.255</td>\n",
       "      <td>23.990</td>\n",
       "      <td>1.8</td>\n",
       "      <td>150.0</td>\n",
       "      <td>102.6</td>\n",
       "      <td>68.2</td>\n",
       "      <td>178.0</td>\n",
       "      <td>2.998</td>\n",
       "      <td>16.4</td>\n",
       "      <td>...</td>\n",
       "      <td>0</td>\n",
       "      <td>0</td>\n",
       "      <td>0</td>\n",
       "      <td>0</td>\n",
       "      <td>0</td>\n",
       "      <td>0</td>\n",
       "      <td>0</td>\n",
       "      <td>0</td>\n",
       "      <td>0</td>\n",
       "      <td>1</td>\n",
       "    </tr>\n",
       "  </tbody>\n",
       "</table>\n",
       "<p>5 rows × 198 columns</p>\n",
       "</div>"
      ],
      "text/plain": [
       "   Sales_in_thousands  four_year_resale_value  Price_in_thousands  \\\n",
       "0              16.919                  16.360              21.500   \n",
       "1              39.384                  19.875              28.400   \n",
       "2              14.114                  18.225              22.799   \n",
       "3               8.588                  29.725              42.000   \n",
       "4              20.397                  22.255              23.990   \n",
       "\n",
       "   Engine_size  Horsepower  Wheelbase  Width  Length  Curb_weight  \\\n",
       "0          1.8       140.0      101.2   67.3   172.4        2.639   \n",
       "1          3.2       225.0      108.1   70.3   192.9        3.517   \n",
       "2          3.2       225.0      106.9   70.6   192.0        3.470   \n",
       "3          3.5       210.0      114.6   71.4   196.6        3.850   \n",
       "4          1.8       150.0      102.6   68.2   178.0        2.998   \n",
       "\n",
       "   Fuel_capacity           ...            Model_Town_car  Model_V40  \\\n",
       "0           13.2           ...                         0          0   \n",
       "1           17.2           ...                         0          0   \n",
       "2           17.2           ...                         0          0   \n",
       "3           18.0           ...                         0          0   \n",
       "4           16.4           ...                         0          0   \n",
       "\n",
       "   Model_V70  Model_Villager  Model_Viper  Model_Voyager  Model_Windstar  \\\n",
       "0          0               0            0              0               0   \n",
       "1          0               0            0              0               0   \n",
       "2          0               0            0              0               0   \n",
       "3          0               0            0              0               0   \n",
       "4          0               0            0              0               0   \n",
       "\n",
       "   Model_Wrangler  Model_Xterra  Vehicle_type_Passenger  \n",
       "0               0             0                       1  \n",
       "1               0             0                       1  \n",
       "2               0             0                       1  \n",
       "3               0             0                       1  \n",
       "4               0             0                       1  \n",
       "\n",
       "[5 rows x 198 columns]"
      ]
     },
     "execution_count": 30,
     "metadata": {},
     "output_type": "execute_result"
    }
   ],
   "source": [
    "carData = pd.concat([data_num, data_cat], axis=1)\n",
    "carData.head()"
   ]
  },
  {
   "cell_type": "code",
   "execution_count": null,
   "metadata": {},
   "outputs": [],
   "source": []
  },
  {
   "cell_type": "code",
   "execution_count": 31,
   "metadata": {},
   "outputs": [],
   "source": [
    "#Assumptions of Regression"
   ]
  },
  {
   "cell_type": "code",
   "execution_count": 32,
   "metadata": {},
   "outputs": [
    {
     "data": {
      "text/plain": [
       "<matplotlib.axes._subplots.AxesSubplot at 0xb620c8c588>"
      ]
     },
     "execution_count": 32,
     "metadata": {},
     "output_type": "execute_result"
    },
    {
     "data": {
      "image/png": "[encoded data removed]",
      "text/plain": [
       "<Figure size 432x288 with 1 Axes>"
      ]
     },
     "metadata": {
      "needs_background": "light"
     },
     "output_type": "display_data"
    }
   ],
   "source": [
    "carData.Sales_in_thousands.hist()"
   ]
  },
  {
   "cell_type": "code",
   "execution_count": 33,
   "metadata": {},
   "outputs": [
    {
     "data": {
      "text/plain": [
       "<matplotlib.axes._subplots.AxesSubplot at 0xb62177a240>"
      ]
     },
     "execution_count": 33,
     "metadata": {},
     "output_type": "execute_result"
    },
    {
     "data": {
      "image/png": "[encoded data removed]",
      "text/plain": [
       "<Figure size 432x288 with 1 Axes>"
      ]
     },
     "metadata": {
      "needs_background": "light"
     },
     "output_type": "display_data"
    }
   ],
   "source": [
    "np.log(carData.Sales_in_thousands).hist()"
   ]
  },
  {
   "cell_type": "code",
   "execution_count": 34,
   "metadata": {},
   "outputs": [
    {
     "name": "stderr",
     "output_type": "stream",
     "text": [
      "C:\\Users\\AyushK\\Anaconda3\\lib\\site-packages\\scipy\\stats\\stats.py:1713: FutureWarning: Using a non-tuple sequence for multidimensional indexing is deprecated; use `arr[tuple(seq)]` instead of `arr[seq]`. In the future this will be interpreted as an array index, `arr[np.array(seq)]`, which will result either in an error or a different result.\n",
      "  return np.add.reduce(sorted[indexer] * weights, axis=axis) / sumval\n"
     ]
    },
    {
     "data": {
      "text/plain": [
       "<matplotlib.axes._subplots.AxesSubplot at 0xb6217dbda0>"
      ]
     },
     "execution_count": 34,
     "metadata": {},
     "output_type": "execute_result"
    },
    {
     "data": {
      "image/png": "[encoded data removed]",
      "text/plain": [
       "<Figure size 432x288 with 1 Axes>"
      ]
     },
     "metadata": {
      "needs_background": "light"
     },
     "output_type": "display_data"
    }
   ],
   "source": [
    "sns.distplot(np.log(carData.Sales_in_thousands))"
   ]
  },
  {
   "cell_type": "markdown",
   "metadata": {},
   "source": [
    "By tranforming the independent variable `carData.Sales_in_thousands` by log we get a normal curve."
   ]
  },
  {
   "cell_type": "code",
   "execution_count": 35,
   "metadata": {},
   "outputs": [],
   "source": [
    "carData[\"ln_Sales_in_thousands\"]= np.log(carData[\"Sales_in_thousands\"])"
   ]
  },
  {
   "cell_type": "markdown",
   "metadata": {},
   "source": [
    "## Variable Reduction"
   ]
  },
  {
   "cell_type": "code",
   "execution_count": 36,
   "metadata": {},
   "outputs": [],
   "source": [
    "# correlation matrix (ranges from 1 to -1)"
   ]
  },
  {
   "cell_type": "code",
   "execution_count": 37,
   "metadata": {},
   "outputs": [],
   "source": [
    "corrm=carData.corr()\n",
    "corrm.to_csv('corrm.csv')"
   ]
  },
  {
   "cell_type": "code",
   "execution_count": 38,
   "metadata": {},
   "outputs": [
    {
     "data": {
      "text/plain": [
       "<matplotlib.axes._subplots.AxesSubplot at 0xb6218de8d0>"
      ]
     },
     "execution_count": 38,
     "metadata": {},
     "output_type": "execute_result"
    },
    {
     "data": {
      "image/png": "[encoded data removed]",
      "text/plain": [
       "<Figure size 432x288 with 2 Axes>"
      ]
     },
     "metadata": {
      "needs_background": "light"
     },
     "output_type": "display_data"
    }
   ],
   "source": [
    "# visualize correlation matrix in Seaborn using a heatmap\n",
    "sns.heatmap(carData.corr())"
   ]
  },
  {
   "cell_type": "code",
   "execution_count": 39,
   "metadata": {},
   "outputs": [],
   "source": [
    "# Recursive Feature Elimination"
   ]
  },
  {
   "cell_type": "code",
   "execution_count": 40,
   "metadata": {},
   "outputs": [],
   "source": [
    "features = carData[carData.columns.difference( ['ln_Sales_in_thousands', 'Sales_in_thousands'] )]\n",
    "target = carData['ln_Sales_in_thousands']"
   ]
  },
  {
   "cell_type": "code",
   "execution_count": 41,
   "metadata": {},
   "outputs": [
    {
     "ename": "NameError",
     "evalue": "name 'ref' is not defined",
     "output_type": "error",
     "traceback": [
      "\u001b[1;31m---------------------------------------------------------------------------\u001b[0m",
      "\u001b[1;31mNameError\u001b[0m                                 Traceback (most recent call last)",
      "\u001b[1;32m<ipython-input-41-6d4107f9f099>\u001b[0m in \u001b[0;36m<module>\u001b[1;34m\u001b[0m\n\u001b[0;32m      8\u001b[0m \u001b[1;31m# create the RFE model and select 30 attributes\u001b[0m\u001b[1;33m\u001b[0m\u001b[1;33m\u001b[0m\u001b[1;33m\u001b[0m\u001b[0m\n\u001b[0;32m      9\u001b[0m \u001b[0mrfe\u001b[0m \u001b[1;33m=\u001b[0m \u001b[0mRFE\u001b[0m\u001b[1;33m(\u001b[0m\u001b[0mlm\u001b[0m\u001b[1;33m,\u001b[0m \u001b[0mn_features_to_select\u001b[0m \u001b[1;33m=\u001b[0m \u001b[1;36m30\u001b[0m\u001b[1;33m)\u001b[0m\u001b[1;33m\u001b[0m\u001b[1;33m\u001b[0m\u001b[0m\n\u001b[1;32m---> 10\u001b[1;33m \u001b[0mrfe\u001b[0m \u001b[1;33m=\u001b[0m \u001b[0mref\u001b[0m\u001b[1;33m.\u001b[0m\u001b[0mfit\u001b[0m\u001b[1;33m(\u001b[0m\u001b[0mfeatures\u001b[0m\u001b[1;33m,\u001b[0m \u001b[0mtarget\u001b[0m\u001b[1;33m)\u001b[0m\u001b[1;33m\u001b[0m\u001b[1;33m\u001b[0m\u001b[0m\n\u001b[0m",
      "\u001b[1;31mNameError\u001b[0m: name 'ref' is not defined"
     ]
    }
   ],
   "source": [
    "from sklearn.feature_selection import RFE\n",
    "from sklearn.linear_model import LinearRegression\n",
    "\n",
    "import itertools\n",
    "\n",
    "lm = LinearRegression()\n",
    "\n",
    "# create the RFE model and select 30 attributes\n",
    "rfe = RFE(lm, n_features_to_select = 30)\n",
    "rfe = ref.fit(features, target)"
   ]
  },
  {
   "cell_type": "code",
   "execution_count": null,
   "metadata": {},
   "outputs": [],
   "source": [
    "rfe.get_support()"
   ]
  },
  {
   "cell_type": "code",
   "execution_count": null,
   "metadata": {},
   "outputs": [],
   "source": [
    "feature_map = [(i, v) for i,v in itertools.zip_longest(features.columns, ref.get_support())   ]"
   ]
  },
  {
   "cell_type": "code",
   "execution_count": null,
   "metadata": {},
   "outputs": [],
   "source": [
    "feature_map"
   ]
  },
  {
   "cell_type": "code",
   "execution_count": null,
   "metadata": {},
   "outputs": [],
   "source": [
    "RFE_Featuers = features.columns[rfe.get_support()]"
   ]
  },
  {
   "cell_type": "code",
   "execution_count": null,
   "metadata": {},
   "outputs": [],
   "source": [
    "RFE_Featuers"
   ]
  },
  {
   "cell_type": "code",
   "execution_count": null,
   "metadata": {},
   "outputs": [],
   "source": [
    "# F-Regression"
   ]
  },
  {
   "cell_type": "code",
   "execution_count": null,
   "metadata": {},
   "outputs": [],
   "source": [
    "# Feature Selection based on importance\n",
    "from sklearn.feature_selection import f_regression\n",
    "\n",
    "F_values, p_values  = f_regression(features, target)"
   ]
  },
  {
   "cell_type": "code",
   "execution_count": null,
   "metadata": {},
   "outputs": [],
   "source": [
    "f_reg_results = [(i, v, z) for i, v, z in itertools.zip_longest(features.columns, F_values,  ['%.3f' % p for p in p_values])]"
   ]
  },
  {
   "cell_type": "code",
   "execution_count": null,
   "metadata": {},
   "outputs": [],
   "source": [
    "f_reg_results=pd.DataFrame(f_reg_results, columns=['Variable','F_Value', 'P_Value'])"
   ]
  },
  {
   "cell_type": "code",
   "execution_count": null,
   "metadata": {},
   "outputs": [],
   "source": [
    "f_reg_results.sort_values(by=['P_Value'])\n",
    "#selecting f regression variables with p value upto 0.05"
   ]
  },
  {
   "cell_type": "code",
   "execution_count": null,
   "metadata": {},
   "outputs": [],
   "source": []
  },
  {
   "cell_type": "code",
   "execution_count": null,
   "metadata": {},
   "outputs": [],
   "source": [
    "# varience inflation Factor (VIF)"
   ]
  },
  {
   "cell_type": "code",
   "execution_count": null,
   "metadata": {},
   "outputs": [],
   "source": [
    "list_vars = ['four_year_resale_value', 'Price_in_thousands', 'Engine_size', 'Horsepower', 'Wheelbase', 'Length', 'Fuel_efficiency', 'Power_perf_factor', 'Manufacturer_Audi', 'Manufacturer_Chevrolet', 'Manufacturer_Ford', 'Manufacturer_Honda', 'Manufacturer_Jeep', 'Manufacturer_Lexus', 'Manufacturer_Mercedes_B', 'Manufacturer_Mitsubishi', 'Manufacturer_Nissan', 'Manufacturer_Plymouth', 'Manufacturer_Porsche', 'Manufacturer_Toyota', 'Manufacturer_Volvo', 'Model_3000GT', 'Model_A8', 'Model_Accord', 'Model_Avenger', 'Model_Breeze', 'Model_C70', 'Model_CL500', 'Model_Camry', 'Model_Caravan', 'Model_Carrera_Cabrio', 'Model_Carrera_Coupe', 'Model_Cavalier', 'Model_Civic', 'Model_Corolla', 'Model_Cutlass', 'Model_Diamante', 'Model_Eldorado', 'Model_Expedition', 'Model_Explorer', 'Model_F_Series', 'Model_Focus', 'Model_GS400', 'Model_GTI', 'Model_Grand_Am', 'Model_Grand_Cherokee', 'Model_Malibu', 'Model_Prowler', 'Model_Ram_Pickup', 'Model_Ranger', 'Model_SL-Class', 'Model_SLK230', 'Model_SW', 'Model_Taurus', 'Model_V40', 'Model_Viper', 'Model_Windstar', 'Vehicle_type_Passenger', 'Manufacturer_Audi', 'Manufacturer_Hyundai', 'Manufacturer_Infiniti', 'Manufacturer_Jaguar', 'Manufacturer_Jeep', 'Manufacturer_Porsche', 'Manufacturer_Saturn', 'Manufacturer_Volkswagen', 'Model_A4', 'Model_A6', 'Model_A8', 'Model_Accent', 'Model_Beetle', 'Model_Boxter', 'Model_Carrera_Cabrio', 'Model_Carrera_Coupe', 'Model_Cherokee', 'Model_Elantra', 'Model_GTI', 'Model_Golf', 'Model_Grand_Cherokee']"
   ]
  },
  {
   "cell_type": "code",
   "execution_count": null,
   "metadata": {},
   "outputs": [],
   "source": [
    "all_columns = \"+\".join(list_vars)\n",
    "my_formula = \"ln_Sales_in_thousands~\" + all_columns\n",
    "\n",
    "print(my_formula)"
   ]
  },
  {
   "cell_type": "code",
   "execution_count": null,
   "metadata": {},
   "outputs": [],
   "source": []
  },
  {
   "attachments": {
    "image.png": {
     "image/png": "[encoded data removed]"
    }
   },
   "cell_type": "markdown",
   "metadata": {},
   "source": [
    "### Model_3000GT Not definde issue.\n",
    "\n",
    ">![image.png](attachment:image.png)\n",
    "\n",
    ">the model 3000GT is the first variable of the model columns and while converting the cat vars to numerical vars we droped the variable Model_3000GT to avoide multicolarnity, even is the correlation between Ln_saes in thousands and Model_3000GT is high it will not impact our model"
   ]
  },
  {
   "cell_type": "code",
   "execution_count": null,
   "metadata": {},
   "outputs": [],
   "source": []
  },
  {
   "cell_type": "code",
   "execution_count": null,
   "metadata": {},
   "outputs": [],
   "source": [
    "my_formula = 'ln_Sales_in_thousands~four_year_resale_value+Horsepower+Length+Manufacturer_Audi+Manufacturer_Chevrolet+Manufacturer_Ford+Manufacturer_Honda+Manufacturer_Jeep+Manufacturer_Lexus+Manufacturer_Mercedes_B+Manufacturer_Mitsubishi+Manufacturer_Nissan+Manufacturer_Plymouth+Manufacturer_Porsche+Manufacturer_Toyota+Manufacturer_Volvo+Model_A8+Model_Accord+Model_Avenger+Model_Breeze+Model_C70+Model_CL500+Model_Camry+Model_Caravan+Model_Carrera_Coupe+Model_Cavalier+Model_Civic+Model_Corolla+Model_Cutlass+Model_Diamante+Model_Eldorado+Model_Expedition+Model_Explorer+Model_F_Series+Model_Focus+Model_GS400+Model_GTI+Model_Grand_Am+Model_Grand_Cherokee+Model_Malibu+Model_Prowler+Model_Ram_Pickup+Model_Ranger+Model_SL-Class+Model_SLK230+Model_SW+Model_Taurus+Model_V40+Model_Viper+Model_Windstar+Vehicle_type_Passenger+Manufacturer_Audi+Manufacturer_Hyundai+Manufacturer_Infiniti+Manufacturer_Jaguar+Manufacturer_Jeep+Manufacturer_Porsche+Manufacturer_Saturn+Manufacturer_Volkswagen+Model_Accent+Model_Beetle+Model_Carrera_Cabrio+Model_Carrera_Coupe+Model_Cherokee+Model_Elantra+Model_GTI+Model_Golf+Model_Grand_Cherokee'"
   ]
  },
  {
   "cell_type": "code",
   "execution_count": null,
   "metadata": {},
   "outputs": [],
   "source": [
    "from statsmodels.stats.outliers_influence import variance_inflation_factor\n",
    "from patsy import dmatrices\n",
    "\n",
    "# get y and X dataframes based on this regression\n",
    "y, X = dmatrices(my_formula, carData, return_type='dataframe')\n",
    "\n",
    "# For each X, calculate VIF and save in dataframe\n",
    "vif = pd.DataFrame()\n",
    "vif[\"VIF Factor\"] = [variance_inflation_factor(X.values, i) for i in range(X.shape[1])]\n",
    "vif[\"features\"] = X.columns\n",
    "\n",
    "vif.sort_values(by=['VIF Factor'],ascending=False)"
   ]
  },
  {
   "cell_type": "markdown",
   "metadata": {},
   "source": [
    " `Model_Carrera_Cabrio`,\n",
    " `Manufacturer_Audi`,\n",
    " `Model_A8`,\n",
    " `Model_Carrera_Coupe`,\n",
    " `Model_A6`,\n",
    " `Manufacturer_Porsche`,\n",
    " `Model_A4`,\n",
    " `Model_Boxter` gives a VIF of `inf` against the other variables even give a nearly perfect fit (R2 = 1) which results in an undefined VIF so we have to remove those variables first."
   ]
  },
  {
   "cell_type": "markdown",
   "metadata": {},
   "source": [
    "## Split the data into train & test\n"
   ]
  },
  {
   "cell_type": "code",
   "execution_count": 50,
   "metadata": {},
   "outputs": [],
   "source": [
    "train, test = train_test_split( carData, test_size = 0.3, random_state = 1234 )"
   ]
  },
  {
   "cell_type": "code",
   "execution_count": 51,
   "metadata": {},
   "outputs": [
    {
     "name": "stdout",
     "output_type": "stream",
     "text": [
      "109\n",
      "48\n"
     ]
    }
   ],
   "source": [
    "print(len(train))\n",
    "print(len(test))"
   ]
  },
  {
   "cell_type": "code",
   "execution_count": 52,
   "metadata": {},
   "outputs": [],
   "source": [
    "import statsmodels.formula.api as smf"
   ]
  },
  {
   "cell_type": "code",
   "execution_count": 53,
   "metadata": {},
   "outputs": [],
   "source": [
    "my_formula = 'ln_Sales_in_thousands~four_year_resale_value+Length+Manufacturer_Ford+Manufacturer_Jeep+Manufacturer_Nissan+Manufacturer_Toyota+Model_Avenger+Model_Breeze+Model_C70+Model_CL500+Model_Cavalier+Model_GS400+Model_Prowler+Model_SW+Model_V40'"
   ]
  },
  {
   "cell_type": "code",
   "execution_count": 54,
   "metadata": {},
   "outputs": [],
   "source": [
    "model = smf.ols(my_formula, data=train).fit()"
   ]
  },
  {
   "cell_type": "code",
   "execution_count": 55,
   "metadata": {},
   "outputs": [
    {
     "name": "stdout",
     "output_type": "stream",
     "text": [
      "                              OLS Regression Results                             \n",
      "=================================================================================\n",
      "Dep. Variable:     ln_Sales_in_thousands   R-squared:                       0.692\n",
      "Model:                               OLS   Adj. R-squared:                  0.642\n",
      "Method:                    Least Squares   F-statistic:                     13.92\n",
      "Date:                   Sun, 16 Jun 2019   Prob (F-statistic):           9.93e-18\n",
      "Time:                           15:58:05   Log-Likelihood:                -107.72\n",
      "No. Observations:                    109   AIC:                             247.4\n",
      "Df Residuals:                         93   BIC:                             290.5\n",
      "Df Model:                             15                                         \n",
      "Covariance Type:               nonrobust                                         \n",
      "==========================================================================================\n",
      "                             coef    std err          t      P>|t|      [0.025      0.975]\n",
      "------------------------------------------------------------------------------------------\n",
      "Intercept                  0.4996      1.118      0.447      0.656      -1.720       2.719\n",
      "four_year_resale_value    -0.0489      0.009     -5.354      0.000      -0.067      -0.031\n",
      "Length                     0.0189      0.006      3.180      0.002       0.007       0.031\n",
      "Manufacturer_Ford          1.6123      0.268      6.025      0.000       1.081       2.144\n",
      "Manufacturer_Jeep          1.5704      0.431      3.645      0.000       0.715       2.426\n",
      "Manufacturer_Nissan        0.7042      0.327      2.156      0.034       0.056       1.353\n",
      "Manufacturer_Toyota        1.1360      0.281      4.036      0.000       0.577       1.695\n",
      "Model_Avenger             -1.9189      0.710     -2.703      0.008      -3.329      -0.509\n",
      "Model_Breeze              -1.8780      0.712     -2.639      0.010      -3.291      -0.465\n",
      "Model_C70                 -2.0582      0.709     -2.903      0.005      -3.466      -0.650\n",
      "Model_CL500               -3.5616      0.711     -5.010      0.000      -4.973      -2.150\n",
      "Model_Cavalier             1.5210      0.713      2.133      0.036       0.105       2.937\n",
      "Model_GS400               -2.1708      0.709     -3.062      0.003      -3.579      -0.763\n",
      "Model_Prowler             -2.2991      0.721     -3.189      0.002      -3.731      -0.867\n",
      "Model_SW                  -1.6556      0.713     -2.320      0.023      -3.072      -0.239\n",
      "Model_V40                 -1.8718      0.712     -2.629      0.010      -3.286      -0.458\n",
      "==============================================================================\n",
      "Omnibus:                       19.338   Durbin-Watson:                   2.323\n",
      "Prob(Omnibus):                  0.000   Jarque-Bera (JB):               45.112\n",
      "Skew:                          -0.630   Prob(JB):                     1.60e-10\n",
      "Kurtosis:                       5.889   Cond. No.                     3.21e+03\n",
      "==============================================================================\n",
      "\n",
      "Warnings:\n",
      "[1] Standard Errors assume that the covariance matrix of the errors is correctly specified.\n",
      "[2] The condition number is large, 3.21e+03. This might indicate that there are\n",
      "strong multicollinearity or other numerical problems.\n"
     ]
    }
   ],
   "source": [
    "print(model.summary())"
   ]
  },
  {
   "cell_type": "code",
   "execution_count": null,
   "metadata": {},
   "outputs": [],
   "source": []
  },
  {
   "cell_type": "code",
   "execution_count": 56,
   "metadata": {},
   "outputs": [
    {
     "name": "stderr",
     "output_type": "stream",
     "text": [
      "C:\\Users\\AyushK\\Anaconda3\\lib\\site-packages\\ipykernel_launcher.py:1: SettingWithCopyWarning: \n",
      "A value is trying to be set on a copy of a slice from a DataFrame.\n",
      "Try using .loc[row_indexer,col_indexer] = value instead\n",
      "\n",
      "See the caveats in the documentation: http://pandas.pydata.org/pandas-docs/stable/indexing.html#indexing-view-versus-copy\n",
      "  \"\"\"Entry point for launching an IPython kernel.\n"
     ]
    }
   ],
   "source": [
    "train['pred'] = pd.DataFrame(np.exp(model.predict(train)))"
   ]
  },
  {
   "cell_type": "code",
   "execution_count": 57,
   "metadata": {},
   "outputs": [
    {
     "data": {
      "text/html": [
       "<div>\n",
       "<style scoped>\n",
       "    .dataframe tbody tr th:only-of-type {\n",
       "        vertical-align: middle;\n",
       "    }\n",
       "\n",
       "    .dataframe tbody tr th {\n",
       "        vertical-align: top;\n",
       "    }\n",
       "\n",
       "    .dataframe thead th {\n",
       "        text-align: right;\n",
       "    }\n",
       "</style>\n",
       "<table border=\"1\" class=\"dataframe\">\n",
       "  <thead>\n",
       "    <tr style=\"text-align: right;\">\n",
       "      <th></th>\n",
       "      <th>Sales_in_thousands</th>\n",
       "      <th>four_year_resale_value</th>\n",
       "      <th>Price_in_thousands</th>\n",
       "      <th>Engine_size</th>\n",
       "      <th>Horsepower</th>\n",
       "      <th>Wheelbase</th>\n",
       "      <th>Width</th>\n",
       "      <th>Length</th>\n",
       "      <th>Curb_weight</th>\n",
       "      <th>Fuel_capacity</th>\n",
       "      <th>...</th>\n",
       "      <th>Model_V70</th>\n",
       "      <th>Model_Villager</th>\n",
       "      <th>Model_Viper</th>\n",
       "      <th>Model_Voyager</th>\n",
       "      <th>Model_Windstar</th>\n",
       "      <th>Model_Wrangler</th>\n",
       "      <th>Model_Xterra</th>\n",
       "      <th>Vehicle_type_Passenger</th>\n",
       "      <th>ln_Sales_in_thousands</th>\n",
       "      <th>pred</th>\n",
       "    </tr>\n",
       "  </thead>\n",
       "  <tbody>\n",
       "    <tr>\n",
       "      <th>24</th>\n",
       "      <td>17.947</td>\n",
       "      <td>36.225</td>\n",
       "      <td>45.7050</td>\n",
       "      <td>5.7</td>\n",
       "      <td>325.75</td>\n",
       "      <td>104.5</td>\n",
       "      <td>73.6</td>\n",
       "      <td>179.7</td>\n",
       "      <td>3.210</td>\n",
       "      <td>19.1</td>\n",
       "      <td>...</td>\n",
       "      <td>0</td>\n",
       "      <td>0</td>\n",
       "      <td>0</td>\n",
       "      <td>0</td>\n",
       "      <td>0</td>\n",
       "      <td>0</td>\n",
       "      <td>0</td>\n",
       "      <td>1</td>\n",
       "      <td>2.887423</td>\n",
       "      <td>8.319878</td>\n",
       "    </tr>\n",
       "    <tr>\n",
       "      <th>99</th>\n",
       "      <td>0.954</td>\n",
       "      <td>14.180</td>\n",
       "      <td>78.4798</td>\n",
       "      <td>5.0</td>\n",
       "      <td>302.00</td>\n",
       "      <td>113.6</td>\n",
       "      <td>73.1</td>\n",
       "      <td>196.6</td>\n",
       "      <td>4.115</td>\n",
       "      <td>23.2</td>\n",
       "      <td>...</td>\n",
       "      <td>0</td>\n",
       "      <td>0</td>\n",
       "      <td>0</td>\n",
       "      <td>0</td>\n",
       "      <td>0</td>\n",
       "      <td>0</td>\n",
       "      <td>0</td>\n",
       "      <td>1</td>\n",
       "      <td>-0.047092</td>\n",
       "      <td>0.954000</td>\n",
       "    </tr>\n",
       "    <tr>\n",
       "      <th>8</th>\n",
       "      <td>9.231</td>\n",
       "      <td>28.675</td>\n",
       "      <td>33.4000</td>\n",
       "      <td>2.8</td>\n",
       "      <td>193.00</td>\n",
       "      <td>107.3</td>\n",
       "      <td>68.5</td>\n",
       "      <td>176.0</td>\n",
       "      <td>3.197</td>\n",
       "      <td>16.6</td>\n",
       "      <td>...</td>\n",
       "      <td>0</td>\n",
       "      <td>0</td>\n",
       "      <td>0</td>\n",
       "      <td>0</td>\n",
       "      <td>0</td>\n",
       "      <td>0</td>\n",
       "      <td>0</td>\n",
       "      <td>1</td>\n",
       "      <td>2.222567</td>\n",
       "      <td>11.220788</td>\n",
       "    </tr>\n",
       "    <tr>\n",
       "      <th>20</th>\n",
       "      <td>135.126</td>\n",
       "      <td>11.225</td>\n",
       "      <td>16.5350</td>\n",
       "      <td>3.1</td>\n",
       "      <td>170.00</td>\n",
       "      <td>107.0</td>\n",
       "      <td>69.4</td>\n",
       "      <td>190.4</td>\n",
       "      <td>3.051</td>\n",
       "      <td>15.0</td>\n",
       "      <td>...</td>\n",
       "      <td>0</td>\n",
       "      <td>0</td>\n",
       "      <td>0</td>\n",
       "      <td>0</td>\n",
       "      <td>0</td>\n",
       "      <td>0</td>\n",
       "      <td>0</td>\n",
       "      <td>1</td>\n",
       "      <td>4.906208</td>\n",
       "      <td>34.535023</td>\n",
       "    </tr>\n",
       "    <tr>\n",
       "      <th>22</th>\n",
       "      <td>42.593</td>\n",
       "      <td>11.525</td>\n",
       "      <td>19.3900</td>\n",
       "      <td>3.4</td>\n",
       "      <td>180.00</td>\n",
       "      <td>110.5</td>\n",
       "      <td>72.7</td>\n",
       "      <td>197.9</td>\n",
       "      <td>3.340</td>\n",
       "      <td>17.0</td>\n",
       "      <td>...</td>\n",
       "      <td>0</td>\n",
       "      <td>0</td>\n",
       "      <td>0</td>\n",
       "      <td>0</td>\n",
       "      <td>0</td>\n",
       "      <td>0</td>\n",
       "      <td>0</td>\n",
       "      <td>1</td>\n",
       "      <td>3.751690</td>\n",
       "      <td>39.203394</td>\n",
       "    </tr>\n",
       "  </tbody>\n",
       "</table>\n",
       "<p>5 rows × 200 columns</p>\n",
       "</div>"
      ],
      "text/plain": [
       "    Sales_in_thousands  four_year_resale_value  Price_in_thousands  \\\n",
       "24              17.947                  36.225             45.7050   \n",
       "99               0.954                  14.180             78.4798   \n",
       "8                9.231                  28.675             33.4000   \n",
       "20             135.126                  11.225             16.5350   \n",
       "22              42.593                  11.525             19.3900   \n",
       "\n",
       "    Engine_size  Horsepower  Wheelbase  Width  Length  Curb_weight  \\\n",
       "24          5.7      325.75      104.5   73.6   179.7        3.210   \n",
       "99          5.0      302.00      113.6   73.1   196.6        4.115   \n",
       "8           2.8      193.00      107.3   68.5   176.0        3.197   \n",
       "20          3.1      170.00      107.0   69.4   190.4        3.051   \n",
       "22          3.4      180.00      110.5   72.7   197.9        3.340   \n",
       "\n",
       "    Fuel_capacity    ...      Model_V70  Model_Villager  Model_Viper  \\\n",
       "24           19.1    ...              0               0            0   \n",
       "99           23.2    ...              0               0            0   \n",
       "8            16.6    ...              0               0            0   \n",
       "20           15.0    ...              0               0            0   \n",
       "22           17.0    ...              0               0            0   \n",
       "\n",
       "    Model_Voyager  Model_Windstar  Model_Wrangler  Model_Xterra  \\\n",
       "24              0               0               0             0   \n",
       "99              0               0               0             0   \n",
       "8               0               0               0             0   \n",
       "20              0               0               0             0   \n",
       "22              0               0               0             0   \n",
       "\n",
       "    Vehicle_type_Passenger  ln_Sales_in_thousands       pred  \n",
       "24                       1               2.887423   8.319878  \n",
       "99                       1              -0.047092   0.954000  \n",
       "8                        1               2.222567  11.220788  \n",
       "20                       1               4.906208  34.535023  \n",
       "22                       1               3.751690  39.203394  \n",
       "\n",
       "[5 rows x 200 columns]"
      ]
     },
     "execution_count": 57,
     "metadata": {},
     "output_type": "execute_result"
    }
   ],
   "source": [
    "train.head()"
   ]
  },
  {
   "cell_type": "code",
   "execution_count": 58,
   "metadata": {},
   "outputs": [
    {
     "name": "stderr",
     "output_type": "stream",
     "text": [
      "C:\\Users\\AyushK\\Anaconda3\\lib\\site-packages\\ipykernel_launcher.py:1: SettingWithCopyWarning: \n",
      "A value is trying to be set on a copy of a slice from a DataFrame.\n",
      "Try using .loc[row_indexer,col_indexer] = value instead\n",
      "\n",
      "See the caveats in the documentation: http://pandas.pydata.org/pandas-docs/stable/indexing.html#indexing-view-versus-copy\n",
      "  \"\"\"Entry point for launching an IPython kernel.\n"
     ]
    },
    {
     "data": {
      "text/html": [
       "<div>\n",
       "<style scoped>\n",
       "    .dataframe tbody tr th:only-of-type {\n",
       "        vertical-align: middle;\n",
       "    }\n",
       "\n",
       "    .dataframe tbody tr th {\n",
       "        vertical-align: top;\n",
       "    }\n",
       "\n",
       "    .dataframe thead th {\n",
       "        text-align: right;\n",
       "    }\n",
       "</style>\n",
       "<table border=\"1\" class=\"dataframe\">\n",
       "  <thead>\n",
       "    <tr style=\"text-align: right;\">\n",
       "      <th></th>\n",
       "      <th>Sales_in_thousands</th>\n",
       "      <th>four_year_resale_value</th>\n",
       "      <th>Price_in_thousands</th>\n",
       "      <th>Engine_size</th>\n",
       "      <th>Horsepower</th>\n",
       "      <th>Wheelbase</th>\n",
       "      <th>Width</th>\n",
       "      <th>Length</th>\n",
       "      <th>Curb_weight</th>\n",
       "      <th>Fuel_capacity</th>\n",
       "      <th>...</th>\n",
       "      <th>Model_V70</th>\n",
       "      <th>Model_Villager</th>\n",
       "      <th>Model_Viper</th>\n",
       "      <th>Model_Voyager</th>\n",
       "      <th>Model_Windstar</th>\n",
       "      <th>Model_Wrangler</th>\n",
       "      <th>Model_Xterra</th>\n",
       "      <th>Vehicle_type_Passenger</th>\n",
       "      <th>ln_Sales_in_thousands</th>\n",
       "      <th>pred</th>\n",
       "    </tr>\n",
       "  </thead>\n",
       "  <tbody>\n",
       "    <tr>\n",
       "      <th>58</th>\n",
       "      <td>230.902</td>\n",
       "      <td>13.210</td>\n",
       "      <td>15.350</td>\n",
       "      <td>2.3</td>\n",
       "      <td>135.0</td>\n",
       "      <td>106.9</td>\n",
       "      <td>70.3</td>\n",
       "      <td>188.8</td>\n",
       "      <td>2.932</td>\n",
       "      <td>17.1</td>\n",
       "      <td>...</td>\n",
       "      <td>0</td>\n",
       "      <td>0</td>\n",
       "      <td>0</td>\n",
       "      <td>0</td>\n",
       "      <td>0</td>\n",
       "      <td>0</td>\n",
       "      <td>0</td>\n",
       "      <td>1</td>\n",
       "      <td>5.441993</td>\n",
       "      <td>30.411145</td>\n",
       "    </tr>\n",
       "    <tr>\n",
       "      <th>91</th>\n",
       "      <td>20.380</td>\n",
       "      <td>14.795</td>\n",
       "      <td>22.510</td>\n",
       "      <td>3.3</td>\n",
       "      <td>170.0</td>\n",
       "      <td>112.2</td>\n",
       "      <td>74.9</td>\n",
       "      <td>194.7</td>\n",
       "      <td>3.944</td>\n",
       "      <td>20.0</td>\n",
       "      <td>...</td>\n",
       "      <td>0</td>\n",
       "      <td>1</td>\n",
       "      <td>0</td>\n",
       "      <td>0</td>\n",
       "      <td>0</td>\n",
       "      <td>0</td>\n",
       "      <td>0</td>\n",
       "      <td>0</td>\n",
       "      <td>3.014554</td>\n",
       "      <td>31.457471</td>\n",
       "    </tr>\n",
       "    <tr>\n",
       "      <th>98</th>\n",
       "      <td>11.592</td>\n",
       "      <td>14.180</td>\n",
       "      <td>41.600</td>\n",
       "      <td>3.2</td>\n",
       "      <td>215.0</td>\n",
       "      <td>105.9</td>\n",
       "      <td>67.8</td>\n",
       "      <td>180.3</td>\n",
       "      <td>3.213</td>\n",
       "      <td>16.4</td>\n",
       "      <td>...</td>\n",
       "      <td>0</td>\n",
       "      <td>0</td>\n",
       "      <td>0</td>\n",
       "      <td>0</td>\n",
       "      <td>0</td>\n",
       "      <td>0</td>\n",
       "      <td>0</td>\n",
       "      <td>1</td>\n",
       "      <td>2.450315</td>\n",
       "      <td>24.707491</td>\n",
       "    </tr>\n",
       "    <tr>\n",
       "      <th>29</th>\n",
       "      <td>32.775</td>\n",
       "      <td>14.180</td>\n",
       "      <td>24.495</td>\n",
       "      <td>2.5</td>\n",
       "      <td>168.0</td>\n",
       "      <td>106.0</td>\n",
       "      <td>69.2</td>\n",
       "      <td>193.0</td>\n",
       "      <td>3.332</td>\n",
       "      <td>16.0</td>\n",
       "      <td>...</td>\n",
       "      <td>0</td>\n",
       "      <td>0</td>\n",
       "      <td>0</td>\n",
       "      <td>0</td>\n",
       "      <td>0</td>\n",
       "      <td>0</td>\n",
       "      <td>0</td>\n",
       "      <td>1</td>\n",
       "      <td>3.489666</td>\n",
       "      <td>31.394245</td>\n",
       "    </tr>\n",
       "    <tr>\n",
       "      <th>6</th>\n",
       "      <td>1.380</td>\n",
       "      <td>39.000</td>\n",
       "      <td>62.000</td>\n",
       "      <td>4.2</td>\n",
       "      <td>310.0</td>\n",
       "      <td>113.0</td>\n",
       "      <td>74.0</td>\n",
       "      <td>198.2</td>\n",
       "      <td>3.902</td>\n",
       "      <td>23.7</td>\n",
       "      <td>...</td>\n",
       "      <td>0</td>\n",
       "      <td>0</td>\n",
       "      <td>0</td>\n",
       "      <td>0</td>\n",
       "      <td>0</td>\n",
       "      <td>0</td>\n",
       "      <td>0</td>\n",
       "      <td>1</td>\n",
       "      <td>0.322083</td>\n",
       "      <td>10.298131</td>\n",
       "    </tr>\n",
       "  </tbody>\n",
       "</table>\n",
       "<p>5 rows × 200 columns</p>\n",
       "</div>"
      ],
      "text/plain": [
       "    Sales_in_thousands  four_year_resale_value  Price_in_thousands  \\\n",
       "58             230.902                  13.210              15.350   \n",
       "91              20.380                  14.795              22.510   \n",
       "98              11.592                  14.180              41.600   \n",
       "29              32.775                  14.180              24.495   \n",
       "6                1.380                  39.000              62.000   \n",
       "\n",
       "    Engine_size  Horsepower  Wheelbase  Width  Length  Curb_weight  \\\n",
       "58          2.3       135.0      106.9   70.3   188.8        2.932   \n",
       "91          3.3       170.0      112.2   74.9   194.7        3.944   \n",
       "98          3.2       215.0      105.9   67.8   180.3        3.213   \n",
       "29          2.5       168.0      106.0   69.2   193.0        3.332   \n",
       "6           4.2       310.0      113.0   74.0   198.2        3.902   \n",
       "\n",
       "    Fuel_capacity    ...      Model_V70  Model_Villager  Model_Viper  \\\n",
       "58           17.1    ...              0               0            0   \n",
       "91           20.0    ...              0               1            0   \n",
       "98           16.4    ...              0               0            0   \n",
       "29           16.0    ...              0               0            0   \n",
       "6            23.7    ...              0               0            0   \n",
       "\n",
       "    Model_Voyager  Model_Windstar  Model_Wrangler  Model_Xterra  \\\n",
       "58              0               0               0             0   \n",
       "91              0               0               0             0   \n",
       "98              0               0               0             0   \n",
       "29              0               0               0             0   \n",
       "6               0               0               0             0   \n",
       "\n",
       "    Vehicle_type_Passenger  ln_Sales_in_thousands       pred  \n",
       "58                       1               5.441993  30.411145  \n",
       "91                       0               3.014554  31.457471  \n",
       "98                       1               2.450315  24.707491  \n",
       "29                       1               3.489666  31.394245  \n",
       "6                        1               0.322083  10.298131  \n",
       "\n",
       "[5 rows x 200 columns]"
      ]
     },
     "execution_count": 58,
     "metadata": {},
     "output_type": "execute_result"
    }
   ],
   "source": [
    "test['pred'] = pd.DataFrame(np.exp(model.predict(test)))\n",
    "test.head()"
   ]
  },
  {
   "cell_type": "code",
   "execution_count": null,
   "metadata": {},
   "outputs": [],
   "source": []
  },
  {
   "cell_type": "code",
   "execution_count": 59,
   "metadata": {},
   "outputs": [],
   "source": [
    "# calculate these metrics by hand!\n",
    "from sklearn import metrics\n",
    "import numpy as np\n",
    "import scipy.stats as stats"
   ]
  },
  {
   "cell_type": "code",
   "execution_count": 60,
   "metadata": {},
   "outputs": [
    {
     "name": "stdout",
     "output_type": "stream",
     "text": [
      "0.643948197433734\n",
      "1232.1913997639601\n",
      "(0.8093771585795352, 1.750552975071976e-26)\n",
      "##################\n",
      "1.856112471066581\n",
      "3941.2836811798807\n",
      "(0.19489628818751092, 0.18435701833437726)\n"
     ]
    }
   ],
   "source": [
    "#Train Data\n",
    "MAPE_train = np.mean(np.abs(train.Sales_in_thousands - train.pred)/train.Sales_in_thousands )\n",
    "print(MAPE_train)\n",
    "\n",
    "\n",
    "RMSE_train = metrics.mean_squared_error(train.Sales_in_thousands , train.pred)\n",
    "print(RMSE_train)\n",
    "\n",
    "Corr_train = stats.stats.pearsonr(train.Sales_in_thousands , train.pred)\n",
    "print(Corr_train)\n",
    "\n",
    "print('##################')\n",
    "#Test Data\n",
    "MAPE_test = np.mean(np.abs(test.Sales_in_thousands - test.pred)/test.Sales_in_thousands )\n",
    "print(MAPE_test)\n",
    "\n",
    "RMSE_test = metrics.mean_squared_error(test.Sales_in_thousands , test.pred)\n",
    "print(RMSE_test)\n",
    "\n",
    "Corr_test = stats.stats.pearsonr(test.Sales_in_thousands , test.pred)\n",
    "print(Corr_test)"
   ]
  },
  {
   "cell_type": "code",
   "execution_count": null,
   "metadata": {},
   "outputs": [],
   "source": []
  },
  {
   "cell_type": "code",
   "execution_count": null,
   "metadata": {},
   "outputs": [],
   "source": []
  },
  {
   "cell_type": "code",
   "execution_count": null,
   "metadata": {},
   "outputs": [],
   "source": []
  },
  {
   "cell_type": "code",
   "execution_count": null,
   "metadata": {},
   "outputs": [],
   "source": []
  }
 ],
 "metadata": {
  "kernelspec": {
   "display_name": "Python 3",
   "language": "python",
   "name": "python3"
  },
  "language_info": {
   "codemirror_mode": {
    "name": "ipython",
    "version": 3
   },
   "file_extension": ".py",
   "mimetype": "text/x-python",
   "name": "python",
   "nbconvert_exporter": "python",
   "pygments_lexer": "ipython3",
   "version": "3.7.1"
  }
 },
 "nbformat": 4,
 "nbformat_minor": 2
}
